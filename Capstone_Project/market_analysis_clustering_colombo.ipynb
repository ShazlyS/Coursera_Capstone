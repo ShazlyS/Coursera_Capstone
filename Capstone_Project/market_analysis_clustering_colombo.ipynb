{
 "cells": [
  {
   "cell_type": "markdown",
   "metadata": {},
   "source": [
    "# Location Based Market Analysis to identify Optimal Business Location in Colombo\n",
    "\n",
    "The notebook will include the following processes:\n",
    "\n",
    "1. Scrape data related to Colombo suburbs and perform data pre-processing\n",
    "2. Obtain location coordinates of the suburbs in Colombo using GeoPy\n",
    "3. Obtain venue and other location related data using Foursquare API\n",
    "3. Analyze and cluster neighborhoods in Colombo based on target market"
   ]
  },
  {
   "cell_type": "markdown",
   "metadata": {},
   "source": [
    "## 1. Scrape data related to Colombo suburbs and perform data pre-processing\n",
    "\n",
    "Import the required libraries"
   ]
  },
  {
   "cell_type": "code",
   "execution_count": 106,
   "metadata": {},
   "outputs": [],
   "source": [
    "import numpy as np\n",
    "import pandas as pd\n",
    "import requests\n",
    "from bs4 import BeautifulSoup\n",
    "from geopy.geocoders import Nominatim\n",
    "import folium\n",
    "import sweetviz as sv\n",
    "from IPython.display import IFrame\n",
    "from sklearn.cluster import KMeans\n",
    "import matplotlib.cm as cm\n",
    "import matplotlib.colors as colors"
   ]
  },
  {
   "cell_type": "markdown",
   "metadata": {},
   "source": [
    "Obtain the data from the html webpage"
   ]
  },
  {
   "cell_type": "code",
   "execution_count": 107,
   "metadata": {},
   "outputs": [],
   "source": [
    "webpage = 'https://en.wikipedia.org/wiki/Postal_codes_in_Sri_Lanka'\n",
    "data = requests.get(webpage).text\n",
    "soup = BeautifulSoup(data, 'html.parser')"
   ]
  },
  {
   "cell_type": "code",
   "execution_count": 108,
   "metadata": {},
   "outputs": [
    {
     "output_type": "execute_result",
     "data": {
      "text/plain": "        Province      District          City Postal Code\n0        Eastern        Ampara        Ampara       32000\n1        Eastern    Kattankudy    Kattankudy       30100\n2        Eastern    Batticaloa    Batticaloa       30000\n3  North Central  Anuradhapura  Anuradhapura       50000\n4            Uva       Badulla       Badulla       90001",
      "text/html": "<div>\n<style scoped>\n    .dataframe tbody tr th:only-of-type {\n        vertical-align: middle;\n    }\n\n    .dataframe tbody tr th {\n        vertical-align: top;\n    }\n\n    .dataframe thead th {\n        text-align: right;\n    }\n</style>\n<table border=\"1\" class=\"dataframe\">\n  <thead>\n    <tr style=\"text-align: right;\">\n      <th></th>\n      <th>Province</th>\n      <th>District</th>\n      <th>City</th>\n      <th>Postal Code</th>\n    </tr>\n  </thead>\n  <tbody>\n    <tr>\n      <th>0</th>\n      <td>Eastern</td>\n      <td>Ampara</td>\n      <td>Ampara</td>\n      <td>32000</td>\n    </tr>\n    <tr>\n      <th>1</th>\n      <td>Eastern</td>\n      <td>Kattankudy</td>\n      <td>Kattankudy</td>\n      <td>30100</td>\n    </tr>\n    <tr>\n      <th>2</th>\n      <td>Eastern</td>\n      <td>Batticaloa</td>\n      <td>Batticaloa</td>\n      <td>30000</td>\n    </tr>\n    <tr>\n      <th>3</th>\n      <td>North Central</td>\n      <td>Anuradhapura</td>\n      <td>Anuradhapura</td>\n      <td>50000</td>\n    </tr>\n    <tr>\n      <th>4</th>\n      <td>Uva</td>\n      <td>Badulla</td>\n      <td>Badulla</td>\n      <td>90001</td>\n    </tr>\n  </tbody>\n</table>\n</div>"
     },
     "metadata": {},
     "execution_count": 108
    }
   ],
   "source": [
    "column_names = ['Province', 'District', 'City', 'Postal Code']\n",
    "df_colombo = pd.DataFrame(columns=column_names)\n",
    "\n",
    "for a in soup.find('table',{\"class\":\"wikitable sortable\"}).find_all('tr'):\n",
    "    td = a.find_all('td')\n",
    "    if(len(td) > 0):\n",
    "        province = td[0].text.replace('\\n', '')\n",
    "        district = td[1].text.replace('\\n', '')\n",
    "        city = td[2].text.replace('\\n', '')\n",
    "        postal_code = td[3].text.replace('\\n', '')\n",
    "\n",
    "        df_colombo = df_colombo.append({'Province': province, 'District': district, 'City': city, 'Postal Code': postal_code}\n",
    "        , ignore_index = True)\n",
    "df_colombo.head()"
   ]
  },
  {
   "cell_type": "markdown",
   "metadata": {},
   "source": [
    "## Perform data pre-processing\n",
    "\n",
    "Remove data related to other districts except Colombo"
   ]
  },
  {
   "cell_type": "code",
   "execution_count": 109,
   "metadata": {
    "tags": []
   },
   "outputs": [
    {
     "output_type": "execute_result",
     "data": {
      "text/plain": "  District           City Postal Code\n0  Colombo   Battaramulla       10120\n1  Colombo  Bambalapitiya       00400\n2  Colombo     Wellawatte       00600\n3  Colombo       Colpetty       00300\n4  Colombo    Narahenpita       00500",
      "text/html": "<div>\n<style scoped>\n    .dataframe tbody tr th:only-of-type {\n        vertical-align: middle;\n    }\n\n    .dataframe tbody tr th {\n        vertical-align: top;\n    }\n\n    .dataframe thead th {\n        text-align: right;\n    }\n</style>\n<table border=\"1\" class=\"dataframe\">\n  <thead>\n    <tr style=\"text-align: right;\">\n      <th></th>\n      <th>District</th>\n      <th>City</th>\n      <th>Postal Code</th>\n    </tr>\n  </thead>\n  <tbody>\n    <tr>\n      <th>0</th>\n      <td>Colombo</td>\n      <td>Battaramulla</td>\n      <td>10120</td>\n    </tr>\n    <tr>\n      <th>1</th>\n      <td>Colombo</td>\n      <td>Bambalapitiya</td>\n      <td>00400</td>\n    </tr>\n    <tr>\n      <th>2</th>\n      <td>Colombo</td>\n      <td>Wellawatte</td>\n      <td>00600</td>\n    </tr>\n    <tr>\n      <th>3</th>\n      <td>Colombo</td>\n      <td>Colpetty</td>\n      <td>00300</td>\n    </tr>\n    <tr>\n      <th>4</th>\n      <td>Colombo</td>\n      <td>Narahenpita</td>\n      <td>00500</td>\n    </tr>\n  </tbody>\n</table>\n</div>"
     },
     "metadata": {},
     "execution_count": 109
    }
   ],
   "source": [
    "df_colombo = df_colombo[df_colombo.District == 'Colombo'].reset_index(drop = True)\n",
    "df_colombo.drop('Province', axis = 1, inplace = True)\n",
    "df_colombo.head()"
   ]
  },
  {
   "cell_type": "markdown",
   "metadata": {},
   "source": [
    "Rename city names which has been recently changed"
   ]
  },
  {
   "cell_type": "code",
   "execution_count": 110,
   "metadata": {
    "tags": []
   },
   "outputs": [],
   "source": [
    "df_colombo['City'].replace({\"Colpetty\": \"Kollupitiya\", 'Hultsdorf': 'Aluthkade East'}, inplace = True)"
   ]
  },
  {
   "cell_type": "markdown",
   "metadata": {},
   "source": [
    "## 2. Obtain location coordinates of the suburbs in Colombo using GeoPy\n",
    "\n",
    "Obtain the geographical coordinates of the suburbs using the GeoPy package and merge with the existing dataframe"
   ]
  },
  {
   "cell_type": "code",
   "execution_count": 111,
   "metadata": {
    "tags": []
   },
   "outputs": [
    {
     "output_type": "execute_result",
     "data": {
      "text/plain": "  District           City  Latitude  Longitude\n0  Colombo   Battaramulla  6.902181  79.919578\n1  Colombo  Bambalapitiya  6.902486  79.854597\n2  Colombo     Wellawatte  6.874384  79.859118\n3  Colombo    Kollupitiya  6.913526  79.850813\n4  Colombo    Narahenpita  6.905727  79.882130",
      "text/html": "<div>\n<style scoped>\n    .dataframe tbody tr th:only-of-type {\n        vertical-align: middle;\n    }\n\n    .dataframe tbody tr th {\n        vertical-align: top;\n    }\n\n    .dataframe thead th {\n        text-align: right;\n    }\n</style>\n<table border=\"1\" class=\"dataframe\">\n  <thead>\n    <tr style=\"text-align: right;\">\n      <th></th>\n      <th>District</th>\n      <th>City</th>\n      <th>Latitude</th>\n      <th>Longitude</th>\n    </tr>\n  </thead>\n  <tbody>\n    <tr>\n      <th>0</th>\n      <td>Colombo</td>\n      <td>Battaramulla</td>\n      <td>6.902181</td>\n      <td>79.919578</td>\n    </tr>\n    <tr>\n      <th>1</th>\n      <td>Colombo</td>\n      <td>Bambalapitiya</td>\n      <td>6.902486</td>\n      <td>79.854597</td>\n    </tr>\n    <tr>\n      <th>2</th>\n      <td>Colombo</td>\n      <td>Wellawatte</td>\n      <td>6.874384</td>\n      <td>79.859118</td>\n    </tr>\n    <tr>\n      <th>3</th>\n      <td>Colombo</td>\n      <td>Kollupitiya</td>\n      <td>6.913526</td>\n      <td>79.850813</td>\n    </tr>\n    <tr>\n      <th>4</th>\n      <td>Colombo</td>\n      <td>Narahenpita</td>\n      <td>6.905727</td>\n      <td>79.882130</td>\n    </tr>\n  </tbody>\n</table>\n</div>"
     },
     "metadata": {},
     "execution_count": 111
    }
   ],
   "source": [
    "df_coordinates = pd.DataFrame(columns = ['District', 'City', 'Latitude', 'Longitude'])\n",
    "for city, district in zip(df_colombo['City'], df_colombo['District']):\n",
    "    address = city + ', ' + district\n",
    "    geolocator = Nominatim(user_agent=\"tor_explorer\")\n",
    "    location = geolocator.geocode(address)\n",
    "    latitude = location.latitude\n",
    "    longitude = location.longitude\n",
    "    df_coordinates = df_coordinates.append({'District': district, 'City': city, 'Latitude': latitude, 'Longitude': longitude},                  ignore_index = True)\n",
    "df_coordinates.head()"
   ]
  },
  {
   "cell_type": "markdown",
   "metadata": {},
   "source": [
    "Create a map of Colombo with neighborhoods superimposed on top"
   ]
  },
  {
   "cell_type": "code",
   "execution_count": 112,
   "metadata": {
    "tags": []
   },
   "outputs": [
    {
     "output_type": "stream",
     "name": "stdout",
     "text": "The geograpical coordinate of Colombo are 6.9349969, 79.8538463.\n"
    }
   ],
   "source": [
    "address = 'Colombo, Srilanka'\n",
    "geolocator = Nominatim(user_agent=\"tor_explorer\")\n",
    "location = geolocator.geocode(address)\n",
    "latitude = location.latitude\n",
    "longitude = location.longitude\n",
    "print('The geograpical coordinate of Colombo are {}, {}.'.format(latitude, longitude))"
   ]
  },
  {
   "cell_type": "code",
   "execution_count": 113,
   "metadata": {},
   "outputs": [
    {
     "output_type": "execute_result",
     "data": {
      "text/plain": "<folium.folium.Map at 0x23effb24308>",
      "text/html": "<div style=\"width:100%;\"><div style=\"position:relative;width:100%;height:0;padding-bottom:60%;\"><span style=\"color:#565656\">Make this Notebook Trusted to load map: File -> Trust Notebook</span><iframe src=\"about:blank\" style=\"position:absolute;width:100%;height:100%;left:0;top:0;border:none !important;\" data-html=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 onload=\"this.contentDocument.open();this.contentDocument.write(atob(this.getAttribute('data-html')));this.contentDocument.close();\" allowfullscreen webkitallowfullscreen mozallowfullscreen></iframe></div></div>"
     },
     "metadata": {},
     "execution_count": 113
    }
   ],
   "source": [
    "map_colombo = folium.Map(location=[latitude, longitude], zoom_start=12)\n",
    "\n",
    "# add markers to map\n",
    "for lat, lng, district, city in zip(df_coordinates['Latitude'], df_coordinates['Longitude'], df_coordinates['District'], df_coordinates['City']):\n",
    "    label = '{}, {}'.format(city, district)\n",
    "    label = folium.Popup(label, parse_html=True)\n",
    "    folium.CircleMarker(\n",
    "        [lat, lng],\n",
    "        radius=5,\n",
    "        popup=label,\n",
    "        color='blue',\n",
    "        fill=True,\n",
    "        fill_color='#3186cc',\n",
    "        fill_opacity=0.7,\n",
    "        parse_html=False).add_to(map_colombo)\n",
    "map_colombo"
   ]
  },
  {
   "cell_type": "markdown",
   "metadata": {},
   "source": [
    "## 3. Obtain venue and other location related data using Foursquare API\n",
    "\n",
    "Initialize the Foursquare API credentials and obtain the venue data"
   ]
  },
  {
   "cell_type": "code",
   "execution_count": 114,
   "metadata": {
    "tags": []
   },
   "outputs": [
    {
     "output_type": "stream",
     "name": "stdout",
     "text": "Your credentails:\nCLIENT_ID: NTA5QWSTGJJIEVUXRKPKK2QNSN5T14RGDE22PKCCX001QOMZ\nCLIENT_SECRET:YEJ3DJ1ACR02GFFGHY1ZUDITL5W4A5WR2BDPFB1NLB4KILAZ\n"
    }
   ],
   "source": [
    "CLIENT_ID = '' # your Foursquare ID\n",
    "CLIENT_SECRET = '' # your Foursquare Secret\n",
    "VERSION = '20180605' # Foursquare API version\n",
    "\n",
    "print('Your credentails:')\n",
    "print('CLIENT_ID: ' + CLIENT_ID)\n",
    "print('CLIENT_SECRET:' + CLIENT_SECRET)"
   ]
  },
  {
   "cell_type": "code",
   "execution_count": 115,
   "metadata": {},
   "outputs": [],
   "source": [
    "LIMIT = 100\n",
    "radius = 500\n",
    "\n",
    "def getNearbyVenues(names, latitudes, longitudes, radius=500):\n",
    "    \n",
    "    venues_list=[]\n",
    "    for name, lat, lng in zip(names, latitudes, longitudes):\n",
    "            \n",
    "        # create the API request URL\n",
    "        url = 'https://api.foursquare.com/v2/venues/explore?&client_id={}&client_secret={}&v={}&ll={},{}&radius={}&limit={}'.format(\n",
    "            CLIENT_ID, \n",
    "            CLIENT_SECRET, \n",
    "            VERSION, \n",
    "            lat, \n",
    "            lng, \n",
    "            radius, \n",
    "            LIMIT)\n",
    "            \n",
    "        # make the GET request\n",
    "        results = requests.get(url).json()[\"response\"]['groups'][0]['items']\n",
    "        \n",
    "        # return only relevant information for each nearby venue\n",
    "        venues_list.append([(\n",
    "            name, \n",
    "            lat, \n",
    "            lng, \n",
    "            v['venue']['name'], \n",
    "            v['venue']['location']['lat'], \n",
    "            v['venue']['location']['lng'],  \n",
    "            v['venue']['categories'][0]['name']) for v in results])\n",
    "\n",
    "    nearby_venues = pd.DataFrame([item for venue_list in venues_list for item in venue_list])\n",
    "    nearby_venues.columns = ['Neighborhood', \n",
    "                  'Neighborhood Latitude', \n",
    "                  'Neighborhood Longitude', \n",
    "                  'Venue', \n",
    "                  'Venue Latitude', \n",
    "                  'Venue Longitude', \n",
    "                  'Venue Category']\n",
    "    \n",
    "    return(nearby_venues)"
   ]
  },
  {
   "cell_type": "code",
   "execution_count": 116,
   "metadata": {},
   "outputs": [],
   "source": [
    "colombo_venues = getNearbyVenues(names=df_coordinates['City'],\n",
    "                                   latitudes=df_coordinates['Latitude'],\n",
    "                                   longitudes=df_coordinates['Longitude']\n",
    "                                  )"
   ]
  },
  {
   "cell_type": "code",
   "execution_count": 117,
   "metadata": {
    "tags": []
   },
   "outputs": [
    {
     "output_type": "stream",
     "name": "stdout",
     "text": "Venue dataset shape:  (388, 7)\n"
    },
    {
     "output_type": "execute_result",
     "data": {
      "text/plain": "   Neighborhood  Neighborhood Latitude  Neighborhood Longitude  \\\n0  Battaramulla               6.902181               79.919578   \n1  Battaramulla               6.902181               79.919578   \n2  Battaramulla               6.902181               79.919578   \n3  Battaramulla               6.902181               79.919578   \n4  Battaramulla               6.902181               79.919578   \n\n                 Venue  Venue Latitude  Venue Longitude        Venue Category  \n0               Klassy        6.900579        79.920607                Bakery  \n1  Arpico Super Center        6.902215        79.917139      Department Store  \n2  Il Gelato Pelawatte        6.899955        79.921299                  Food  \n3             Dinemore        6.899238        79.922145  Fast Food Restaurant  \n4            Pillawoos        6.902067        79.918643      Asian Restaurant  ",
      "text/html": "<div>\n<style scoped>\n    .dataframe tbody tr th:only-of-type {\n        vertical-align: middle;\n    }\n\n    .dataframe tbody tr th {\n        vertical-align: top;\n    }\n\n    .dataframe thead th {\n        text-align: right;\n    }\n</style>\n<table border=\"1\" class=\"dataframe\">\n  <thead>\n    <tr style=\"text-align: right;\">\n      <th></th>\n      <th>Neighborhood</th>\n      <th>Neighborhood Latitude</th>\n      <th>Neighborhood Longitude</th>\n      <th>Venue</th>\n      <th>Venue Latitude</th>\n      <th>Venue Longitude</th>\n      <th>Venue Category</th>\n    </tr>\n  </thead>\n  <tbody>\n    <tr>\n      <th>0</th>\n      <td>Battaramulla</td>\n      <td>6.902181</td>\n      <td>79.919578</td>\n      <td>Klassy</td>\n      <td>6.900579</td>\n      <td>79.920607</td>\n      <td>Bakery</td>\n    </tr>\n    <tr>\n      <th>1</th>\n      <td>Battaramulla</td>\n      <td>6.902181</td>\n      <td>79.919578</td>\n      <td>Arpico Super Center</td>\n      <td>6.902215</td>\n      <td>79.917139</td>\n      <td>Department Store</td>\n    </tr>\n    <tr>\n      <th>2</th>\n      <td>Battaramulla</td>\n      <td>6.902181</td>\n      <td>79.919578</td>\n      <td>Il Gelato Pelawatte</td>\n      <td>6.899955</td>\n      <td>79.921299</td>\n      <td>Food</td>\n    </tr>\n    <tr>\n      <th>3</th>\n      <td>Battaramulla</td>\n      <td>6.902181</td>\n      <td>79.919578</td>\n      <td>Dinemore</td>\n      <td>6.899238</td>\n      <td>79.922145</td>\n      <td>Fast Food Restaurant</td>\n    </tr>\n    <tr>\n      <th>4</th>\n      <td>Battaramulla</td>\n      <td>6.902181</td>\n      <td>79.919578</td>\n      <td>Pillawoos</td>\n      <td>6.902067</td>\n      <td>79.918643</td>\n      <td>Asian Restaurant</td>\n    </tr>\n  </tbody>\n</table>\n</div>"
     },
     "metadata": {},
     "execution_count": 117
    }
   ],
   "source": [
    "print('Venue dataset shape: ', colombo_venues.shape)\n",
    "colombo_venues.head()"
   ]
  },
  {
   "cell_type": "markdown",
   "metadata": {},
   "source": [
    "## 4. Analyze and cluster neighborhoods in Colombo based on target market\n",
    "Perform exploratory data analysis of the obtained dataset\n",
    "\n",
    "Check the number of venues for each neighborhood and the number of unique categories from all the returned venues"
   ]
  },
  {
   "cell_type": "code",
   "execution_count": 118,
   "metadata": {},
   "outputs": [
    {
     "output_type": "execute_result",
     "data": {
      "text/plain": "                  Neighborhood Latitude  Neighborhood Longitude  Venue  \\\nNeighborhood                                                             \nAluthkade East                        6                       6      6   \nBambalapitiya                        40                      40     40   \nBattaramulla                         11                      11     11   \nBorella                              23                      23     23   \nCinnamon Gardens                     49                      49     49   \nDehiwala                             17                      17     17   \nDematagoda                            6                       6      6   \nFort                                 18                      18     18   \nGrandpass                             4                       4      4   \nKollupitiya                          43                      43     43   \nKolonnawa                             4                       4      4   \nKotahena                              7                       7      7   \nMaharagama                           19                      19     19   \nMaradana                             22                      22     22   \nMoratuwa                              6                       6      6   \nMount Lavinia                        15                      15     15   \nMutwal                                4                       4      4   \nNarahenpita                           4                       4      4   \nPettah                               19                      19     19   \nRajagiriya                           20                      20     20   \nSlave Island                         19                      19     19   \nWellawatte                           32                      32     32   \n\n                  Venue Latitude  Venue Longitude  Venue Category  \nNeighborhood                                                       \nAluthkade East                 6                6               6  \nBambalapitiya                 40               40              40  \nBattaramulla                  11               11              11  \nBorella                       23               23              23  \nCinnamon Gardens              49               49              49  \nDehiwala                      17               17              17  \nDematagoda                     6                6               6  \nFort                          18               18              18  \nGrandpass                      4                4               4  \nKollupitiya                   43               43              43  \nKolonnawa                      4                4               4  \nKotahena                       7                7               7  \nMaharagama                    19               19              19  \nMaradana                      22               22              22  \nMoratuwa                       6                6               6  \nMount Lavinia                 15               15              15  \nMutwal                         4                4               4  \nNarahenpita                    4                4               4  \nPettah                        19               19              19  \nRajagiriya                    20               20              20  \nSlave Island                  19               19              19  \nWellawatte                    32               32              32  ",
      "text/html": "<div>\n<style scoped>\n    .dataframe tbody tr th:only-of-type {\n        vertical-align: middle;\n    }\n\n    .dataframe tbody tr th {\n        vertical-align: top;\n    }\n\n    .dataframe thead th {\n        text-align: right;\n    }\n</style>\n<table border=\"1\" class=\"dataframe\">\n  <thead>\n    <tr style=\"text-align: right;\">\n      <th></th>\n      <th>Neighborhood Latitude</th>\n      <th>Neighborhood Longitude</th>\n      <th>Venue</th>\n      <th>Venue Latitude</th>\n      <th>Venue Longitude</th>\n      <th>Venue Category</th>\n    </tr>\n    <tr>\n      <th>Neighborhood</th>\n      <th></th>\n      <th></th>\n      <th></th>\n      <th></th>\n      <th></th>\n      <th></th>\n    </tr>\n  </thead>\n  <tbody>\n    <tr>\n      <th>Aluthkade East</th>\n      <td>6</td>\n      <td>6</td>\n      <td>6</td>\n      <td>6</td>\n      <td>6</td>\n      <td>6</td>\n    </tr>\n    <tr>\n      <th>Bambalapitiya</th>\n      <td>40</td>\n      <td>40</td>\n      <td>40</td>\n      <td>40</td>\n      <td>40</td>\n      <td>40</td>\n    </tr>\n    <tr>\n      <th>Battaramulla</th>\n      <td>11</td>\n      <td>11</td>\n      <td>11</td>\n      <td>11</td>\n      <td>11</td>\n      <td>11</td>\n    </tr>\n    <tr>\n      <th>Borella</th>\n      <td>23</td>\n      <td>23</td>\n      <td>23</td>\n      <td>23</td>\n      <td>23</td>\n      <td>23</td>\n    </tr>\n    <tr>\n      <th>Cinnamon Gardens</th>\n      <td>49</td>\n      <td>49</td>\n      <td>49</td>\n      <td>49</td>\n      <td>49</td>\n      <td>49</td>\n    </tr>\n    <tr>\n      <th>Dehiwala</th>\n      <td>17</td>\n      <td>17</td>\n      <td>17</td>\n      <td>17</td>\n      <td>17</td>\n      <td>17</td>\n    </tr>\n    <tr>\n      <th>Dematagoda</th>\n      <td>6</td>\n      <td>6</td>\n      <td>6</td>\n      <td>6</td>\n      <td>6</td>\n      <td>6</td>\n    </tr>\n    <tr>\n      <th>Fort</th>\n      <td>18</td>\n      <td>18</td>\n      <td>18</td>\n      <td>18</td>\n      <td>18</td>\n      <td>18</td>\n    </tr>\n    <tr>\n      <th>Grandpass</th>\n      <td>4</td>\n      <td>4</td>\n      <td>4</td>\n      <td>4</td>\n      <td>4</td>\n      <td>4</td>\n    </tr>\n    <tr>\n      <th>Kollupitiya</th>\n      <td>43</td>\n      <td>43</td>\n      <td>43</td>\n      <td>43</td>\n      <td>43</td>\n      <td>43</td>\n    </tr>\n    <tr>\n      <th>Kolonnawa</th>\n      <td>4</td>\n      <td>4</td>\n      <td>4</td>\n      <td>4</td>\n      <td>4</td>\n      <td>4</td>\n    </tr>\n    <tr>\n      <th>Kotahena</th>\n      <td>7</td>\n      <td>7</td>\n      <td>7</td>\n      <td>7</td>\n      <td>7</td>\n      <td>7</td>\n    </tr>\n    <tr>\n      <th>Maharagama</th>\n      <td>19</td>\n      <td>19</td>\n      <td>19</td>\n      <td>19</td>\n      <td>19</td>\n      <td>19</td>\n    </tr>\n    <tr>\n      <th>Maradana</th>\n      <td>22</td>\n      <td>22</td>\n      <td>22</td>\n      <td>22</td>\n      <td>22</td>\n      <td>22</td>\n    </tr>\n    <tr>\n      <th>Moratuwa</th>\n      <td>6</td>\n      <td>6</td>\n      <td>6</td>\n      <td>6</td>\n      <td>6</td>\n      <td>6</td>\n    </tr>\n    <tr>\n      <th>Mount Lavinia</th>\n      <td>15</td>\n      <td>15</td>\n      <td>15</td>\n      <td>15</td>\n      <td>15</td>\n      <td>15</td>\n    </tr>\n    <tr>\n      <th>Mutwal</th>\n      <td>4</td>\n      <td>4</td>\n      <td>4</td>\n      <td>4</td>\n      <td>4</td>\n      <td>4</td>\n    </tr>\n    <tr>\n      <th>Narahenpita</th>\n      <td>4</td>\n      <td>4</td>\n      <td>4</td>\n      <td>4</td>\n      <td>4</td>\n      <td>4</td>\n    </tr>\n    <tr>\n      <th>Pettah</th>\n      <td>19</td>\n      <td>19</td>\n      <td>19</td>\n      <td>19</td>\n      <td>19</td>\n      <td>19</td>\n    </tr>\n    <tr>\n      <th>Rajagiriya</th>\n      <td>20</td>\n      <td>20</td>\n      <td>20</td>\n      <td>20</td>\n      <td>20</td>\n      <td>20</td>\n    </tr>\n    <tr>\n      <th>Slave Island</th>\n      <td>19</td>\n      <td>19</td>\n      <td>19</td>\n      <td>19</td>\n      <td>19</td>\n      <td>19</td>\n    </tr>\n    <tr>\n      <th>Wellawatte</th>\n      <td>32</td>\n      <td>32</td>\n      <td>32</td>\n      <td>32</td>\n      <td>32</td>\n      <td>32</td>\n    </tr>\n  </tbody>\n</table>\n</div>"
     },
     "metadata": {},
     "execution_count": 118
    }
   ],
   "source": [
    "colombo_venues.groupby('Neighborhood').count()"
   ]
  },
  {
   "cell_type": "markdown",
   "metadata": {},
   "source": [
    "Visualize the dataset using Sweetviz and analyze the frequency of the venue in each neighborhood"
   ]
  },
  {
   "cell_type": "code",
   "execution_count": 119,
   "metadata": {
    "tags": []
   },
   "outputs": [
    {
     "output_type": "stream",
     "name": "stderr",
     "text": ":FEATURES DONE:                    |                     | [  0%]   00:04  -> (00:00 left)\n:PAIRWISE DONE:                    |█████████████████████| [100%]   00:00  -> (00:00 left)\nCreating Associations graph...DONE!\n"
    },
    {
     "output_type": "execute_result",
     "data": {
      "text/plain": "<IPython.lib.display.IFrame at 0x23e843f4cc8>",
      "text/html": "\n        <iframe\n            width=\"1800\"\n            height=\"600\"\n            src=\"Venue.html\"\n            frameborder=\"0\"\n            allowfullscreen\n        ></iframe>\n        "
     },
     "metadata": {},
     "execution_count": 119
    }
   ],
   "source": [
    "venue_report = sv.analyze(colombo_venues)\n",
    "venue_report.show_html('Venue.html')\n",
    "IFrame(src='Venue.html', width=1800, height=600)"
   ]
  },
  {
   "cell_type": "markdown",
   "metadata": {},
   "source": [
    "Here we are able to see the distrubution of the venues among the neighborhoods in Colombo, where Cinnamon gardens have the highest venue data followed by Kollupitiya and Bambalapitiya.\n",
    "\n",
    "Also we are able to analyze the types of venues in the dataset with bakery, clothing stores, cafes and asian restaurants being the most common types of venues in most neighborhoods"
   ]
  },
  {
   "cell_type": "code",
   "execution_count": 120,
   "metadata": {
    "tags": []
   },
   "outputs": [
    {
     "output_type": "stream",
     "name": "stdout",
     "text": "There are 107 uniques categories.\n"
    }
   ],
   "source": [
    "print('There are {} uniques categories.'.format(len(colombo_venues['Venue Category'].unique())))"
   ]
  },
  {
   "cell_type": "markdown",
   "metadata": {},
   "source": [
    "Analyze each neighborhood"
   ]
  },
  {
   "cell_type": "code",
   "execution_count": 121,
   "metadata": {
    "tags": []
   },
   "outputs": [
    {
     "output_type": "stream",
     "name": "stdout",
     "text": "(388, 108)\n"
    },
    {
     "output_type": "execute_result",
     "data": {
      "text/plain": "   Neighborhood  Arcade  Art Gallery  Arts & Entertainment  Asian Restaurant  \\\n0  Battaramulla       0            0                     0                 0   \n1  Battaramulla       0            0                     0                 0   \n2  Battaramulla       0            0                     0                 0   \n3  Battaramulla       0            0                     0                 0   \n4  Battaramulla       0            0                     0                 1   \n\n   Athletics & Sports  Badminton Court  Bakery  Bank  Bar  ...  \\\n0                   0                0       1     0    0  ...   \n1                   0                0       0     0    0  ...   \n2                   0                0       0     0    0  ...   \n3                   0                0       0     0    0  ...   \n4                   0                0       0     0    0  ...   \n\n   Sri Lankan Restaurant  Supermarket  Sushi Restaurant  Taco Place  Tea Room  \\\n0                      0            0                 0           0         0   \n1                      0            0                 0           0         0   \n2                      0            0                 0           0         0   \n3                      0            0                 0           0         0   \n4                      0            0                 0           0         0   \n\n   Thai Restaurant  Theater  Train Station  Vegetarian / Vegan Restaurant  \\\n0                0        0              0                              0   \n1                0        0              0                              0   \n2                0        0              0                              0   \n3                0        0              0                              0   \n4                0        0              0                              0   \n\n   Women's Store  \n0              0  \n1              0  \n2              0  \n3              0  \n4              0  \n\n[5 rows x 108 columns]",
      "text/html": "<div>\n<style scoped>\n    .dataframe tbody tr th:only-of-type {\n        vertical-align: middle;\n    }\n\n    .dataframe tbody tr th {\n        vertical-align: top;\n    }\n\n    .dataframe thead th {\n        text-align: right;\n    }\n</style>\n<table border=\"1\" class=\"dataframe\">\n  <thead>\n    <tr style=\"text-align: right;\">\n      <th></th>\n      <th>Neighborhood</th>\n      <th>Arcade</th>\n      <th>Art Gallery</th>\n      <th>Arts &amp; Entertainment</th>\n      <th>Asian Restaurant</th>\n      <th>Athletics &amp; Sports</th>\n      <th>Badminton Court</th>\n      <th>Bakery</th>\n      <th>Bank</th>\n      <th>Bar</th>\n      <th>...</th>\n      <th>Sri Lankan Restaurant</th>\n      <th>Supermarket</th>\n      <th>Sushi Restaurant</th>\n      <th>Taco Place</th>\n      <th>Tea Room</th>\n      <th>Thai Restaurant</th>\n      <th>Theater</th>\n      <th>Train Station</th>\n      <th>Vegetarian / Vegan Restaurant</th>\n      <th>Women's Store</th>\n    </tr>\n  </thead>\n  <tbody>\n    <tr>\n      <th>0</th>\n      <td>Battaramulla</td>\n      <td>0</td>\n      <td>0</td>\n      <td>0</td>\n      <td>0</td>\n      <td>0</td>\n      <td>0</td>\n      <td>1</td>\n      <td>0</td>\n      <td>0</td>\n      <td>...</td>\n      <td>0</td>\n      <td>0</td>\n      <td>0</td>\n      <td>0</td>\n      <td>0</td>\n      <td>0</td>\n      <td>0</td>\n      <td>0</td>\n      <td>0</td>\n      <td>0</td>\n    </tr>\n    <tr>\n      <th>1</th>\n      <td>Battaramulla</td>\n      <td>0</td>\n      <td>0</td>\n      <td>0</td>\n      <td>0</td>\n      <td>0</td>\n      <td>0</td>\n      <td>0</td>\n      <td>0</td>\n      <td>0</td>\n      <td>...</td>\n      <td>0</td>\n      <td>0</td>\n      <td>0</td>\n      <td>0</td>\n      <td>0</td>\n      <td>0</td>\n      <td>0</td>\n      <td>0</td>\n      <td>0</td>\n      <td>0</td>\n    </tr>\n    <tr>\n      <th>2</th>\n      <td>Battaramulla</td>\n      <td>0</td>\n      <td>0</td>\n      <td>0</td>\n      <td>0</td>\n      <td>0</td>\n      <td>0</td>\n      <td>0</td>\n      <td>0</td>\n      <td>0</td>\n      <td>...</td>\n      <td>0</td>\n      <td>0</td>\n      <td>0</td>\n      <td>0</td>\n      <td>0</td>\n      <td>0</td>\n      <td>0</td>\n      <td>0</td>\n      <td>0</td>\n      <td>0</td>\n    </tr>\n    <tr>\n      <th>3</th>\n      <td>Battaramulla</td>\n      <td>0</td>\n      <td>0</td>\n      <td>0</td>\n      <td>0</td>\n      <td>0</td>\n      <td>0</td>\n      <td>0</td>\n      <td>0</td>\n      <td>0</td>\n      <td>...</td>\n      <td>0</td>\n      <td>0</td>\n      <td>0</td>\n      <td>0</td>\n      <td>0</td>\n      <td>0</td>\n      <td>0</td>\n      <td>0</td>\n      <td>0</td>\n      <td>0</td>\n    </tr>\n    <tr>\n      <th>4</th>\n      <td>Battaramulla</td>\n      <td>0</td>\n      <td>0</td>\n      <td>0</td>\n      <td>1</td>\n      <td>0</td>\n      <td>0</td>\n      <td>0</td>\n      <td>0</td>\n      <td>0</td>\n      <td>...</td>\n      <td>0</td>\n      <td>0</td>\n      <td>0</td>\n      <td>0</td>\n      <td>0</td>\n      <td>0</td>\n      <td>0</td>\n      <td>0</td>\n      <td>0</td>\n      <td>0</td>\n    </tr>\n  </tbody>\n</table>\n<p>5 rows × 108 columns</p>\n</div>"
     },
     "metadata": {},
     "execution_count": 121
    }
   ],
   "source": [
    "colombo_onehot = pd.get_dummies(colombo_venues[['Venue Category']], prefix=\"\", prefix_sep=\"\")\n",
    "\n",
    "# add neighborhood column back to dataframe\n",
    "colombo_onehot['Neighborhood'] = colombo_venues['Neighborhood'] \n",
    "\n",
    "# move neighborhood column to the first column\n",
    "fixed_columns = [colombo_onehot.columns[-1]] + list(colombo_onehot.columns[:-1])\n",
    "colombo_onehot = colombo_onehot[fixed_columns]\n",
    "\n",
    "print(colombo_onehot.shape)\n",
    "colombo_onehot.head()"
   ]
  },
  {
   "cell_type": "code",
   "execution_count": 122,
   "metadata": {},
   "outputs": [
    {
     "output_type": "execute_result",
     "data": {
      "text/plain": "        Neighborhood    Arcade  Art Gallery  Arts & Entertainment  \\\n0     Aluthkade East  0.000000     0.000000              0.000000   \n1      Bambalapitiya  0.000000     0.000000              0.000000   \n2       Battaramulla  0.000000     0.000000              0.000000   \n3            Borella  0.000000     0.000000              0.000000   \n4   Cinnamon Gardens  0.000000     0.040816              0.000000   \n5           Dehiwala  0.000000     0.000000              0.000000   \n6         Dematagoda  0.000000     0.000000              0.000000   \n7               Fort  0.055556     0.000000              0.000000   \n8          Grandpass  0.000000     0.000000              0.000000   \n9        Kollupitiya  0.000000     0.000000              0.023256   \n10         Kolonnawa  0.000000     0.000000              0.000000   \n11          Kotahena  0.000000     0.000000              0.000000   \n12        Maharagama  0.000000     0.000000              0.000000   \n13          Maradana  0.000000     0.000000              0.000000   \n14          Moratuwa  0.000000     0.000000              0.000000   \n15     Mount Lavinia  0.000000     0.000000              0.000000   \n16            Mutwal  0.000000     0.000000              0.000000   \n17       Narahenpita  0.000000     0.000000              0.000000   \n18            Pettah  0.052632     0.000000              0.000000   \n19        Rajagiriya  0.000000     0.000000              0.000000   \n20      Slave Island  0.000000     0.000000              0.000000   \n21        Wellawatte  0.000000     0.000000              0.000000   \n\n    Asian Restaurant  Athletics & Sports  Badminton Court    Bakery     Bank  \\\n0           0.166667            0.000000         0.000000  0.000000  0.00000   \n1           0.000000            0.000000         0.000000  0.075000  0.00000   \n2           0.090909            0.000000         0.000000  0.454545  0.00000   \n3           0.000000            0.000000         0.000000  0.043478  0.00000   \n4           0.000000            0.020408         0.020408  0.000000  0.00000   \n5           0.058824            0.000000         0.000000  0.058824  0.00000   \n6           0.000000            0.000000         0.000000  0.000000  0.00000   \n7           0.055556            0.000000         0.000000  0.000000  0.00000   \n8           0.000000            0.250000         0.000000  0.000000  0.00000   \n9           0.023256            0.000000         0.000000  0.000000  0.00000   \n10          0.000000            0.000000         0.000000  0.000000  0.00000   \n11          0.142857            0.000000         0.000000  0.142857  0.00000   \n12          0.000000            0.000000         0.000000  0.105263  0.00000   \n13          0.090909            0.000000         0.000000  0.045455  0.00000   \n14          0.166667            0.000000         0.000000  0.000000  0.00000   \n15          0.000000            0.000000         0.000000  0.200000  0.00000   \n16          0.000000            0.000000         0.000000  0.000000  0.00000   \n17          0.000000            0.000000         0.000000  0.000000  0.00000   \n18          0.000000            0.000000         0.000000  0.000000  0.00000   \n19          0.150000            0.000000         0.000000  0.100000  0.00000   \n20          0.000000            0.000000         0.000000  0.052632  0.00000   \n21          0.062500            0.000000         0.000000  0.031250  0.03125   \n\n         Bar  ...  Sri Lankan Restaurant  Supermarket  Sushi Restaurant  \\\n0   0.000000  ...               0.000000     0.000000              0.00   \n1   0.025000  ...               0.025000     0.000000              0.00   \n2   0.000000  ...               0.000000     0.000000              0.00   \n3   0.043478  ...               0.000000     0.000000              0.00   \n4   0.040816  ...               0.020408     0.000000              0.00   \n5   0.000000  ...               0.000000     0.000000              0.00   \n6   0.000000  ...               0.000000     0.166667              0.00   \n7   0.000000  ...               0.000000     0.000000              0.00   \n8   0.000000  ...               0.000000     0.000000              0.00   \n9   0.000000  ...               0.069767     0.000000              0.00   \n10  0.000000  ...               0.000000     0.000000              0.00   \n11  0.000000  ...               0.000000     0.142857              0.00   \n12  0.000000  ...               0.000000     0.105263              0.00   \n13  0.000000  ...               0.000000     0.000000              0.00   \n14  0.000000  ...               0.000000     0.000000              0.00   \n15  0.000000  ...               0.000000     0.066667              0.00   \n16  0.000000  ...               0.000000     0.000000              0.00   \n17  0.000000  ...               0.000000     0.000000              0.00   \n18  0.000000  ...               0.000000     0.000000              0.00   \n19  0.000000  ...               0.000000     0.050000              0.05   \n20  0.105263  ...               0.000000     0.000000              0.00   \n21  0.000000  ...               0.000000     0.000000              0.00   \n\n    Taco Place  Tea Room  Thai Restaurant   Theater  Train Station  \\\n0     0.000000  0.000000         0.000000  0.000000       0.000000   \n1     0.000000  0.000000         0.050000  0.000000       0.000000   \n2     0.000000  0.000000         0.000000  0.000000       0.000000   \n3     0.000000  0.000000         0.000000  0.043478       0.000000   \n4     0.020408  0.000000         0.020408  0.040816       0.000000   \n5     0.000000  0.000000         0.000000  0.000000       0.058824   \n6     0.000000  0.000000         0.000000  0.000000       0.000000   \n7     0.000000  0.000000         0.000000  0.000000       0.055556   \n8     0.000000  0.250000         0.000000  0.000000       0.000000   \n9     0.000000  0.023256         0.000000  0.000000       0.023256   \n10    0.000000  0.000000         0.000000  0.000000       0.000000   \n11    0.000000  0.000000         0.000000  0.000000       0.000000   \n12    0.000000  0.000000         0.000000  0.000000       0.052632   \n13    0.000000  0.000000         0.000000  0.045455       0.045455   \n14    0.000000  0.000000         0.000000  0.000000       0.166667   \n15    0.000000  0.000000         0.000000  0.000000       0.000000   \n16    0.000000  0.000000         0.000000  0.000000       0.000000   \n17    0.000000  0.000000         0.000000  0.000000       0.000000   \n18    0.000000  0.000000         0.000000  0.000000       0.052632   \n19    0.000000  0.000000         0.000000  0.000000       0.000000   \n20    0.000000  0.000000         0.000000  0.000000       0.000000   \n21    0.000000  0.000000         0.000000  0.000000       0.031250   \n\n    Vegetarian / Vegan Restaurant  Women's Store  \n0                        0.166667       0.000000  \n1                        0.000000       0.000000  \n2                        0.000000       0.000000  \n3                        0.043478       0.043478  \n4                        0.000000       0.020408  \n5                        0.000000       0.058824  \n6                        0.000000       0.000000  \n7                        0.055556       0.055556  \n8                        0.000000       0.000000  \n9                        0.000000       0.023256  \n10                       0.000000       0.000000  \n11                       0.000000       0.000000  \n12                       0.000000       0.052632  \n13                       0.045455       0.000000  \n14                       0.000000       0.000000  \n15                       0.000000       0.000000  \n16                       0.000000       0.000000  \n17                       0.000000       0.000000  \n18                       0.052632       0.052632  \n19                       0.000000       0.000000  \n20                       0.000000       0.000000  \n21                       0.031250       0.031250  \n\n[22 rows x 108 columns]",
      "text/html": "<div>\n<style scoped>\n    .dataframe tbody tr th:only-of-type {\n        vertical-align: middle;\n    }\n\n    .dataframe tbody tr th {\n        vertical-align: top;\n    }\n\n    .dataframe thead th {\n        text-align: right;\n    }\n</style>\n<table border=\"1\" class=\"dataframe\">\n  <thead>\n    <tr style=\"text-align: right;\">\n      <th></th>\n      <th>Neighborhood</th>\n      <th>Arcade</th>\n      <th>Art Gallery</th>\n      <th>Arts &amp; Entertainment</th>\n      <th>Asian Restaurant</th>\n      <th>Athletics &amp; Sports</th>\n      <th>Badminton Court</th>\n      <th>Bakery</th>\n      <th>Bank</th>\n      <th>Bar</th>\n      <th>...</th>\n      <th>Sri Lankan Restaurant</th>\n      <th>Supermarket</th>\n      <th>Sushi Restaurant</th>\n      <th>Taco Place</th>\n      <th>Tea Room</th>\n      <th>Thai Restaurant</th>\n      <th>Theater</th>\n      <th>Train Station</th>\n      <th>Vegetarian / Vegan Restaurant</th>\n      <th>Women's Store</th>\n    </tr>\n  </thead>\n  <tbody>\n    <tr>\n      <th>0</th>\n      <td>Aluthkade East</td>\n      <td>0.000000</td>\n      <td>0.000000</td>\n      <td>0.000000</td>\n      <td>0.166667</td>\n      <td>0.000000</td>\n      <td>0.000000</td>\n      <td>0.000000</td>\n      <td>0.00000</td>\n      <td>0.000000</td>\n      <td>...</td>\n      <td>0.000000</td>\n      <td>0.000000</td>\n      <td>0.00</td>\n      <td>0.000000</td>\n      <td>0.000000</td>\n      <td>0.000000</td>\n      <td>0.000000</td>\n      <td>0.000000</td>\n      <td>0.166667</td>\n      <td>0.000000</td>\n    </tr>\n    <tr>\n      <th>1</th>\n      <td>Bambalapitiya</td>\n      <td>0.000000</td>\n      <td>0.000000</td>\n      <td>0.000000</td>\n      <td>0.000000</td>\n      <td>0.000000</td>\n      <td>0.000000</td>\n      <td>0.075000</td>\n      <td>0.00000</td>\n      <td>0.025000</td>\n      <td>...</td>\n      <td>0.025000</td>\n      <td>0.000000</td>\n      <td>0.00</td>\n      <td>0.000000</td>\n      <td>0.000000</td>\n      <td>0.050000</td>\n      <td>0.000000</td>\n      <td>0.000000</td>\n      <td>0.000000</td>\n      <td>0.000000</td>\n    </tr>\n    <tr>\n      <th>2</th>\n      <td>Battaramulla</td>\n      <td>0.000000</td>\n      <td>0.000000</td>\n      <td>0.000000</td>\n      <td>0.090909</td>\n      <td>0.000000</td>\n      <td>0.000000</td>\n      <td>0.454545</td>\n      <td>0.00000</td>\n      <td>0.000000</td>\n      <td>...</td>\n      <td>0.000000</td>\n      <td>0.000000</td>\n      <td>0.00</td>\n      <td>0.000000</td>\n      <td>0.000000</td>\n      <td>0.000000</td>\n      <td>0.000000</td>\n      <td>0.000000</td>\n      <td>0.000000</td>\n      <td>0.000000</td>\n    </tr>\n    <tr>\n      <th>3</th>\n      <td>Borella</td>\n      <td>0.000000</td>\n      <td>0.000000</td>\n      <td>0.000000</td>\n      <td>0.000000</td>\n      <td>0.000000</td>\n      <td>0.000000</td>\n      <td>0.043478</td>\n      <td>0.00000</td>\n      <td>0.043478</td>\n      <td>...</td>\n      <td>0.000000</td>\n      <td>0.000000</td>\n      <td>0.00</td>\n      <td>0.000000</td>\n      <td>0.000000</td>\n      <td>0.000000</td>\n      <td>0.043478</td>\n      <td>0.000000</td>\n      <td>0.043478</td>\n      <td>0.043478</td>\n    </tr>\n    <tr>\n      <th>4</th>\n      <td>Cinnamon Gardens</td>\n      <td>0.000000</td>\n      <td>0.040816</td>\n      <td>0.000000</td>\n      <td>0.000000</td>\n      <td>0.020408</td>\n      <td>0.020408</td>\n      <td>0.000000</td>\n      <td>0.00000</td>\n      <td>0.040816</td>\n      <td>...</td>\n      <td>0.020408</td>\n      <td>0.000000</td>\n      <td>0.00</td>\n      <td>0.020408</td>\n      <td>0.000000</td>\n      <td>0.020408</td>\n      <td>0.040816</td>\n      <td>0.000000</td>\n      <td>0.000000</td>\n      <td>0.020408</td>\n    </tr>\n    <tr>\n      <th>5</th>\n      <td>Dehiwala</td>\n      <td>0.000000</td>\n      <td>0.000000</td>\n      <td>0.000000</td>\n      <td>0.058824</td>\n      <td>0.000000</td>\n      <td>0.000000</td>\n      <td>0.058824</td>\n      <td>0.00000</td>\n      <td>0.000000</td>\n      <td>...</td>\n      <td>0.000000</td>\n      <td>0.000000</td>\n      <td>0.00</td>\n      <td>0.000000</td>\n      <td>0.000000</td>\n      <td>0.000000</td>\n      <td>0.000000</td>\n      <td>0.058824</td>\n      <td>0.000000</td>\n      <td>0.058824</td>\n    </tr>\n    <tr>\n      <th>6</th>\n      <td>Dematagoda</td>\n      <td>0.000000</td>\n      <td>0.000000</td>\n      <td>0.000000</td>\n      <td>0.000000</td>\n      <td>0.000000</td>\n      <td>0.000000</td>\n      <td>0.000000</td>\n      <td>0.00000</td>\n      <td>0.000000</td>\n      <td>...</td>\n      <td>0.000000</td>\n      <td>0.166667</td>\n      <td>0.00</td>\n      <td>0.000000</td>\n      <td>0.000000</td>\n      <td>0.000000</td>\n      <td>0.000000</td>\n      <td>0.000000</td>\n      <td>0.000000</td>\n      <td>0.000000</td>\n    </tr>\n    <tr>\n      <th>7</th>\n      <td>Fort</td>\n      <td>0.055556</td>\n      <td>0.000000</td>\n      <td>0.000000</td>\n      <td>0.055556</td>\n      <td>0.000000</td>\n      <td>0.000000</td>\n      <td>0.000000</td>\n      <td>0.00000</td>\n      <td>0.000000</td>\n      <td>...</td>\n      <td>0.000000</td>\n      <td>0.000000</td>\n      <td>0.00</td>\n      <td>0.000000</td>\n      <td>0.000000</td>\n      <td>0.000000</td>\n      <td>0.000000</td>\n      <td>0.055556</td>\n      <td>0.055556</td>\n      <td>0.055556</td>\n    </tr>\n    <tr>\n      <th>8</th>\n      <td>Grandpass</td>\n      <td>0.000000</td>\n      <td>0.000000</td>\n      <td>0.000000</td>\n      <td>0.000000</td>\n      <td>0.250000</td>\n      <td>0.000000</td>\n      <td>0.000000</td>\n      <td>0.00000</td>\n      <td>0.000000</td>\n      <td>...</td>\n      <td>0.000000</td>\n      <td>0.000000</td>\n      <td>0.00</td>\n      <td>0.000000</td>\n      <td>0.250000</td>\n      <td>0.000000</td>\n      <td>0.000000</td>\n      <td>0.000000</td>\n      <td>0.000000</td>\n      <td>0.000000</td>\n    </tr>\n    <tr>\n      <th>9</th>\n      <td>Kollupitiya</td>\n      <td>0.000000</td>\n      <td>0.000000</td>\n      <td>0.023256</td>\n      <td>0.023256</td>\n      <td>0.000000</td>\n      <td>0.000000</td>\n      <td>0.000000</td>\n      <td>0.00000</td>\n      <td>0.000000</td>\n      <td>...</td>\n      <td>0.069767</td>\n      <td>0.000000</td>\n      <td>0.00</td>\n      <td>0.000000</td>\n      <td>0.023256</td>\n      <td>0.000000</td>\n      <td>0.000000</td>\n      <td>0.023256</td>\n      <td>0.000000</td>\n      <td>0.023256</td>\n    </tr>\n    <tr>\n      <th>10</th>\n      <td>Kolonnawa</td>\n      <td>0.000000</td>\n      <td>0.000000</td>\n      <td>0.000000</td>\n      <td>0.000000</td>\n      <td>0.000000</td>\n      <td>0.000000</td>\n      <td>0.000000</td>\n      <td>0.00000</td>\n      <td>0.000000</td>\n      <td>...</td>\n      <td>0.000000</td>\n      <td>0.000000</td>\n      <td>0.00</td>\n      <td>0.000000</td>\n      <td>0.000000</td>\n      <td>0.000000</td>\n      <td>0.000000</td>\n      <td>0.000000</td>\n      <td>0.000000</td>\n      <td>0.000000</td>\n    </tr>\n    <tr>\n      <th>11</th>\n      <td>Kotahena</td>\n      <td>0.000000</td>\n      <td>0.000000</td>\n      <td>0.000000</td>\n      <td>0.142857</td>\n      <td>0.000000</td>\n      <td>0.000000</td>\n      <td>0.142857</td>\n      <td>0.00000</td>\n      <td>0.000000</td>\n      <td>...</td>\n      <td>0.000000</td>\n      <td>0.142857</td>\n      <td>0.00</td>\n      <td>0.000000</td>\n      <td>0.000000</td>\n      <td>0.000000</td>\n      <td>0.000000</td>\n      <td>0.000000</td>\n      <td>0.000000</td>\n      <td>0.000000</td>\n    </tr>\n    <tr>\n      <th>12</th>\n      <td>Maharagama</td>\n      <td>0.000000</td>\n      <td>0.000000</td>\n      <td>0.000000</td>\n      <td>0.000000</td>\n      <td>0.000000</td>\n      <td>0.000000</td>\n      <td>0.105263</td>\n      <td>0.00000</td>\n      <td>0.000000</td>\n      <td>...</td>\n      <td>0.000000</td>\n      <td>0.105263</td>\n      <td>0.00</td>\n      <td>0.000000</td>\n      <td>0.000000</td>\n      <td>0.000000</td>\n      <td>0.000000</td>\n      <td>0.052632</td>\n      <td>0.000000</td>\n      <td>0.052632</td>\n    </tr>\n    <tr>\n      <th>13</th>\n      <td>Maradana</td>\n      <td>0.000000</td>\n      <td>0.000000</td>\n      <td>0.000000</td>\n      <td>0.090909</td>\n      <td>0.000000</td>\n      <td>0.000000</td>\n      <td>0.045455</td>\n      <td>0.00000</td>\n      <td>0.000000</td>\n      <td>...</td>\n      <td>0.000000</td>\n      <td>0.000000</td>\n      <td>0.00</td>\n      <td>0.000000</td>\n      <td>0.000000</td>\n      <td>0.000000</td>\n      <td>0.045455</td>\n      <td>0.045455</td>\n      <td>0.045455</td>\n      <td>0.000000</td>\n    </tr>\n    <tr>\n      <th>14</th>\n      <td>Moratuwa</td>\n      <td>0.000000</td>\n      <td>0.000000</td>\n      <td>0.000000</td>\n      <td>0.166667</td>\n      <td>0.000000</td>\n      <td>0.000000</td>\n      <td>0.000000</td>\n      <td>0.00000</td>\n      <td>0.000000</td>\n      <td>...</td>\n      <td>0.000000</td>\n      <td>0.000000</td>\n      <td>0.00</td>\n      <td>0.000000</td>\n      <td>0.000000</td>\n      <td>0.000000</td>\n      <td>0.000000</td>\n      <td>0.166667</td>\n      <td>0.000000</td>\n      <td>0.000000</td>\n    </tr>\n    <tr>\n      <th>15</th>\n      <td>Mount Lavinia</td>\n      <td>0.000000</td>\n      <td>0.000000</td>\n      <td>0.000000</td>\n      <td>0.000000</td>\n      <td>0.000000</td>\n      <td>0.000000</td>\n      <td>0.200000</td>\n      <td>0.00000</td>\n      <td>0.000000</td>\n      <td>...</td>\n      <td>0.000000</td>\n      <td>0.066667</td>\n      <td>0.00</td>\n      <td>0.000000</td>\n      <td>0.000000</td>\n      <td>0.000000</td>\n      <td>0.000000</td>\n      <td>0.000000</td>\n      <td>0.000000</td>\n      <td>0.000000</td>\n    </tr>\n    <tr>\n      <th>16</th>\n      <td>Mutwal</td>\n      <td>0.000000</td>\n      <td>0.000000</td>\n      <td>0.000000</td>\n      <td>0.000000</td>\n      <td>0.000000</td>\n      <td>0.000000</td>\n      <td>0.000000</td>\n      <td>0.00000</td>\n      <td>0.000000</td>\n      <td>...</td>\n      <td>0.000000</td>\n      <td>0.000000</td>\n      <td>0.00</td>\n      <td>0.000000</td>\n      <td>0.000000</td>\n      <td>0.000000</td>\n      <td>0.000000</td>\n      <td>0.000000</td>\n      <td>0.000000</td>\n      <td>0.000000</td>\n    </tr>\n    <tr>\n      <th>17</th>\n      <td>Narahenpita</td>\n      <td>0.000000</td>\n      <td>0.000000</td>\n      <td>0.000000</td>\n      <td>0.000000</td>\n      <td>0.000000</td>\n      <td>0.000000</td>\n      <td>0.000000</td>\n      <td>0.00000</td>\n      <td>0.000000</td>\n      <td>...</td>\n      <td>0.000000</td>\n      <td>0.000000</td>\n      <td>0.00</td>\n      <td>0.000000</td>\n      <td>0.000000</td>\n      <td>0.000000</td>\n      <td>0.000000</td>\n      <td>0.000000</td>\n      <td>0.000000</td>\n      <td>0.000000</td>\n    </tr>\n    <tr>\n      <th>18</th>\n      <td>Pettah</td>\n      <td>0.052632</td>\n      <td>0.000000</td>\n      <td>0.000000</td>\n      <td>0.000000</td>\n      <td>0.000000</td>\n      <td>0.000000</td>\n      <td>0.000000</td>\n      <td>0.00000</td>\n      <td>0.000000</td>\n      <td>...</td>\n      <td>0.000000</td>\n      <td>0.000000</td>\n      <td>0.00</td>\n      <td>0.000000</td>\n      <td>0.000000</td>\n      <td>0.000000</td>\n      <td>0.000000</td>\n      <td>0.052632</td>\n      <td>0.052632</td>\n      <td>0.052632</td>\n    </tr>\n    <tr>\n      <th>19</th>\n      <td>Rajagiriya</td>\n      <td>0.000000</td>\n      <td>0.000000</td>\n      <td>0.000000</td>\n      <td>0.150000</td>\n      <td>0.000000</td>\n      <td>0.000000</td>\n      <td>0.100000</td>\n      <td>0.00000</td>\n      <td>0.000000</td>\n      <td>...</td>\n      <td>0.000000</td>\n      <td>0.050000</td>\n      <td>0.05</td>\n      <td>0.000000</td>\n      <td>0.000000</td>\n      <td>0.000000</td>\n      <td>0.000000</td>\n      <td>0.000000</td>\n      <td>0.000000</td>\n      <td>0.000000</td>\n    </tr>\n    <tr>\n      <th>20</th>\n      <td>Slave Island</td>\n      <td>0.000000</td>\n      <td>0.000000</td>\n      <td>0.000000</td>\n      <td>0.000000</td>\n      <td>0.000000</td>\n      <td>0.000000</td>\n      <td>0.052632</td>\n      <td>0.00000</td>\n      <td>0.105263</td>\n      <td>...</td>\n      <td>0.000000</td>\n      <td>0.000000</td>\n      <td>0.00</td>\n      <td>0.000000</td>\n      <td>0.000000</td>\n      <td>0.000000</td>\n      <td>0.000000</td>\n      <td>0.000000</td>\n      <td>0.000000</td>\n      <td>0.000000</td>\n    </tr>\n    <tr>\n      <th>21</th>\n      <td>Wellawatte</td>\n      <td>0.000000</td>\n      <td>0.000000</td>\n      <td>0.000000</td>\n      <td>0.062500</td>\n      <td>0.000000</td>\n      <td>0.000000</td>\n      <td>0.031250</td>\n      <td>0.03125</td>\n      <td>0.000000</td>\n      <td>...</td>\n      <td>0.000000</td>\n      <td>0.000000</td>\n      <td>0.00</td>\n      <td>0.000000</td>\n      <td>0.000000</td>\n      <td>0.000000</td>\n      <td>0.000000</td>\n      <td>0.031250</td>\n      <td>0.031250</td>\n      <td>0.031250</td>\n    </tr>\n  </tbody>\n</table>\n<p>22 rows × 108 columns</p>\n</div>"
     },
     "metadata": {},
     "execution_count": 122
    }
   ],
   "source": [
    "colombo_group = colombo_onehot.groupby('Neighborhood').mean().reset_index()\n",
    "colombo_group"
   ]
  },
  {
   "cell_type": "markdown",
   "metadata": {},
   "source": [
    "Obtain the top 5 most common venues in each neighborhood"
   ]
  },
  {
   "cell_type": "code",
   "execution_count": 123,
   "metadata": {
    "tags": []
   },
   "outputs": [
    {
     "output_type": "stream",
     "name": "stdout",
     "text": "----Aluthkade East----\n                           venue  freq\n0  Vegetarian / Vegan Restaurant  0.17\n1               Asian Restaurant  0.17\n2                  Hot Dog Joint  0.17\n3              Indian Restaurant  0.17\n4         Furniture / Home Store  0.17\n\n\n----Bambalapitiya----\n                venue  freq\n0               Hotel  0.10\n1        Dessert Shop  0.08\n2  Chinese Restaurant  0.08\n3              Bakery  0.08\n4         Coffee Shop  0.05\n\n\n----Battaramulla----\n               venue  freq\n0             Bakery  0.45\n1   Department Store  0.09\n2   Asian Restaurant  0.09\n3     Clothing Store  0.09\n4  Electronics Store  0.09\n\n\n----Borella----\n            venue  freq\n0  Clothing Store  0.13\n1  Cosmetics Shop  0.09\n2      Restaurant  0.09\n3             Spa  0.04\n4           Hotel  0.04\n\n\n----Cinnamon Gardens----\n         venue  freq\n0         Café  0.12\n1  Coffee Shop  0.08\n2  Art Gallery  0.04\n3      Theater  0.04\n4          Gym  0.04\n\n\n----Dehiwala----\n            venue  freq\n0  Cosmetics Shop  0.18\n1     Pizza Place  0.12\n2  Clothing Store  0.12\n3       Bookstore  0.06\n4   Movie Theater  0.06\n\n\n----Dematagoda----\n              venue  freq\n0              Café  0.33\n1  Department Store  0.17\n2         Pool Hall  0.17\n3       Supermarket  0.17\n4          Bus Stop  0.17\n\n\n----Fort----\n                           venue  freq\n0                       Platform  0.17\n1                         Market  0.11\n2                         Arcade  0.06\n3                         Casino  0.06\n4  Vegetarian / Vegan Restaurant  0.06\n\n\n----Grandpass----\n                      venue  freq\n0            Cricket Ground  0.25\n1        Athletics & Sports  0.25\n2      Gym / Fitness Center  0.25\n3                  Tea Room  0.25\n4  Mediterranean Restaurant  0.00\n\n\n----Kollupitiya----\n                   venue  freq\n0  Sri Lankan Restaurant  0.07\n1         Clothing Store  0.05\n2            Coffee Shop  0.05\n3          Shopping Mall  0.05\n4                  Hotel  0.05\n\n\n----Kolonnawa----\n               venue  freq\n0     Cosmetics Shop  0.25\n1  Convenience Store  0.25\n2   Department Store  0.25\n3         Restaurant  0.25\n4           Pharmacy  0.00\n\n\n----Kotahena----\n               venue  freq\n0        Supermarket  0.14\n1        IT Services  0.14\n2   Asian Restaurant  0.14\n3  Indian Restaurant  0.14\n4             Bakery  0.14\n\n\n----Maharagama----\n              venue  freq\n0       Bus Station  0.16\n1       Supermarket  0.11\n2            Bakery  0.11\n3  Halal Restaurant  0.05\n4          Boutique  0.05\n\n\n----Maradana----\n               venue  freq\n0  Convenience Store  0.09\n1          Bookstore  0.09\n2         Restaurant  0.09\n3        Bus Station  0.09\n4   Asian Restaurant  0.09\n\n\n----Moratuwa----\n                venue  freq\n0      Clothing Store  0.33\n1              Market  0.17\n2    Asian Restaurant  0.17\n3       Train Station  0.17\n4  Chinese Restaurant  0.17\n\n\n----Mount Lavinia----\n                      venue  freq\n0                    Bakery  0.20\n1  Mediterranean Restaurant  0.07\n2               Supermarket  0.07\n3                     Hotel  0.07\n4               Coffee Shop  0.07\n\n\n----Mutwal----\n               venue  freq\n0       Concert Hall  0.25\n1              Beach  0.25\n2         Playground  0.25\n3     Cricket Ground  0.25\n4  Indian Restaurant  0.00\n\n\n----Narahenpita----\n                      venue  freq\n0               Golf Course  0.50\n1               IT Services  0.25\n2                 Gift Shop  0.25\n3                    Arcade  0.00\n4  Mediterranean Restaurant  0.00\n\n\n----Pettah----\n                           venue  freq\n0                       Platform  0.16\n1                    Bus Station  0.11\n2               Department Store  0.11\n3                         Arcade  0.05\n4  Vegetarian / Vegan Restaurant  0.05\n\n\n----Rajagiriya----\n                venue  freq\n0         Pizza Place  0.15\n1    Asian Restaurant  0.15\n2              Bakery  0.10\n3  Chinese Restaurant  0.10\n4       Shopping Mall  0.10\n\n\n----Slave Island----\n         venue  freq\n0        Hotel  0.16\n1  Coffee Shop  0.16\n2          Bar  0.11\n3          Gym  0.05\n4    Nightclub  0.05\n\n\n----Wellawatte----\n                  venue  freq\n0  Fast Food Restaurant  0.09\n1        Clothing Store  0.09\n2                 Hotel  0.09\n3     Indian Restaurant  0.06\n4    Seafood Restaurant  0.06\n\n\n"
    }
   ],
   "source": [
    "num_top_venues = 5\n",
    "\n",
    "for hood in colombo_group['Neighborhood']:\n",
    "    print(\"----\"+hood+\"----\")\n",
    "    temp = colombo_group[colombo_group['Neighborhood'] == hood].T.reset_index()\n",
    "    temp.columns = ['venue','freq']\n",
    "    temp = temp.iloc[1:]\n",
    "    temp['freq'] = temp['freq'].astype(float)\n",
    "    temp = temp.round({'freq': 2})\n",
    "    print(temp.sort_values('freq', ascending=False).reset_index(drop=True).head(num_top_venues))\n",
    "    print('\\n')"
   ]
  },
  {
   "cell_type": "markdown",
   "metadata": {},
   "source": [
    "### Create a dataframe to display the top 10 venues for each neighborhood"
   ]
  },
  {
   "cell_type": "code",
   "execution_count": 124,
   "metadata": {},
   "outputs": [],
   "source": [
    "def return_most_common_venues(row, num_top_venues):\n",
    "    row_categories = row.iloc[1:]\n",
    "    row_categories_sorted = row_categories.sort_values(ascending=False)\n",
    "    \n",
    "    return row_categories_sorted.index.values[0:num_top_venues]"
   ]
  },
  {
   "cell_type": "code",
   "execution_count": 125,
   "metadata": {},
   "outputs": [
    {
     "output_type": "execute_result",
     "data": {
      "text/plain": "       Neighborhood 1st Most Common Venue          2nd Most Common Venue  \\\n0    Aluthkade East  Fast Food Restaurant  Vegetarian / Vegan Restaurant   \n1     Bambalapitiya                 Hotel                         Bakery   \n2      Battaramulla                Bakery           Fast Food Restaurant   \n3           Borella        Clothing Store                 Cosmetics Shop   \n4  Cinnamon Gardens                  Café                    Coffee Shop   \n\n  3rd Most Common Venue 4th Most Common Venue 5th Most Common Venue  \\\n0      Asian Restaurant         Hot Dog Joint     Indian Restaurant   \n1    Chinese Restaurant          Dessert Shop           Coffee Shop   \n2        Clothing Store      Asian Restaurant      Department Store   \n3            Restaurant         Women's Store                 Hotel   \n4           Art Gallery               Theater                   Pub   \n\n    6th Most Common Venue 7th Most Common Venue     8th Most Common Venue  \\\n0  Furniture / Home Store         Women's Store            Cosmetics Shop   \n1              Restaurant       Thai Restaurant            Lingerie Store   \n2                    Food     Electronics Store             Women's Store   \n3       Convenience Store                Office  Mediterranean Restaurant   \n4                     Gym             Nightclub                       Bar   \n\n  9th Most Common Venue 10th Most Common Venue  \n0        Cricket Ground       Department Store  \n1         Jewelry Store         Clothing Store  \n2        Cosmetics Shop         Cricket Ground  \n3           Pizza Place             Donut Shop  \n4         Women's Store           Cocktail Bar  ",
      "text/html": "<div>\n<style scoped>\n    .dataframe tbody tr th:only-of-type {\n        vertical-align: middle;\n    }\n\n    .dataframe tbody tr th {\n        vertical-align: top;\n    }\n\n    .dataframe thead th {\n        text-align: right;\n    }\n</style>\n<table border=\"1\" class=\"dataframe\">\n  <thead>\n    <tr style=\"text-align: right;\">\n      <th></th>\n      <th>Neighborhood</th>\n      <th>1st Most Common Venue</th>\n      <th>2nd Most Common Venue</th>\n      <th>3rd Most Common Venue</th>\n      <th>4th Most Common Venue</th>\n      <th>5th Most Common Venue</th>\n      <th>6th Most Common Venue</th>\n      <th>7th Most Common Venue</th>\n      <th>8th Most Common Venue</th>\n      <th>9th Most Common Venue</th>\n      <th>10th Most Common Venue</th>\n    </tr>\n  </thead>\n  <tbody>\n    <tr>\n      <th>0</th>\n      <td>Aluthkade East</td>\n      <td>Fast Food Restaurant</td>\n      <td>Vegetarian / Vegan Restaurant</td>\n      <td>Asian Restaurant</td>\n      <td>Hot Dog Joint</td>\n      <td>Indian Restaurant</td>\n      <td>Furniture / Home Store</td>\n      <td>Women's Store</td>\n      <td>Cosmetics Shop</td>\n      <td>Cricket Ground</td>\n      <td>Department Store</td>\n    </tr>\n    <tr>\n      <th>1</th>\n      <td>Bambalapitiya</td>\n      <td>Hotel</td>\n      <td>Bakery</td>\n      <td>Chinese Restaurant</td>\n      <td>Dessert Shop</td>\n      <td>Coffee Shop</td>\n      <td>Restaurant</td>\n      <td>Thai Restaurant</td>\n      <td>Lingerie Store</td>\n      <td>Jewelry Store</td>\n      <td>Clothing Store</td>\n    </tr>\n    <tr>\n      <th>2</th>\n      <td>Battaramulla</td>\n      <td>Bakery</td>\n      <td>Fast Food Restaurant</td>\n      <td>Clothing Store</td>\n      <td>Asian Restaurant</td>\n      <td>Department Store</td>\n      <td>Food</td>\n      <td>Electronics Store</td>\n      <td>Women's Store</td>\n      <td>Cosmetics Shop</td>\n      <td>Cricket Ground</td>\n    </tr>\n    <tr>\n      <th>3</th>\n      <td>Borella</td>\n      <td>Clothing Store</td>\n      <td>Cosmetics Shop</td>\n      <td>Restaurant</td>\n      <td>Women's Store</td>\n      <td>Hotel</td>\n      <td>Convenience Store</td>\n      <td>Office</td>\n      <td>Mediterranean Restaurant</td>\n      <td>Pizza Place</td>\n      <td>Donut Shop</td>\n    </tr>\n    <tr>\n      <th>4</th>\n      <td>Cinnamon Gardens</td>\n      <td>Café</td>\n      <td>Coffee Shop</td>\n      <td>Art Gallery</td>\n      <td>Theater</td>\n      <td>Pub</td>\n      <td>Gym</td>\n      <td>Nightclub</td>\n      <td>Bar</td>\n      <td>Women's Store</td>\n      <td>Cocktail Bar</td>\n    </tr>\n  </tbody>\n</table>\n</div>"
     },
     "metadata": {},
     "execution_count": 125
    }
   ],
   "source": [
    "num_top_venues = 10\n",
    "\n",
    "indicators = ['st', 'nd', 'rd']\n",
    "\n",
    "# create columns according to number of top venues\n",
    "columns = ['Neighborhood']\n",
    "for ind in np.arange(num_top_venues):\n",
    "    try:\n",
    "        columns.append('{}{} Most Common Venue'.format(ind+1, indicators[ind]))\n",
    "    except:\n",
    "        columns.append('{}th Most Common Venue'.format(ind+1))\n",
    "\n",
    "# create a new dataframe\n",
    "colombo_venues_new = pd.DataFrame(columns=columns)\n",
    "colombo_venues_new['Neighborhood'] = colombo_group['Neighborhood']\n",
    "\n",
    "for ind in np.arange(colombo_group.shape[0]):\n",
    "    colombo_venues_new.iloc[ind, 1:] = return_most_common_venues(colombo_group.iloc[ind, :], num_top_venues)\n",
    "\n",
    "colombo_venues_new.head()"
   ]
  },
  {
   "cell_type": "markdown",
   "metadata": {},
   "source": [
    "### Cluster and analyze the Toronto neighborhoods using K-means\n",
    "\n",
    "The neighborhoods will be segmented into 3 different clusters"
   ]
  },
  {
   "cell_type": "code",
   "execution_count": 126,
   "metadata": {},
   "outputs": [
    {
     "output_type": "execute_result",
     "data": {
      "text/plain": "array([0, 0, 1, 0, 0, 0, 0, 0, 0, 0])"
     },
     "metadata": {},
     "execution_count": 126
    }
   ],
   "source": [
    "clustersize = 3\n",
    "\n",
    "colombo_cluster = colombo_group.drop('Neighborhood', 1)\n",
    "\n",
    "# run k-means clustering\n",
    "kmeans = KMeans(n_clusters=clustersize, random_state=0).fit(colombo_cluster)\n",
    "\n",
    "kmeans.labels_[0:10]"
   ]
  },
  {
   "cell_type": "code",
   "execution_count": 127,
   "metadata": {},
   "outputs": [
    {
     "output_type": "execute_result",
     "data": {
      "text/plain": "  District           City  Latitude  Longitude  Cluster Labels  \\\n0  Colombo   Battaramulla  6.902181  79.919578             1.0   \n1  Colombo  Bambalapitiya  6.902486  79.854597             0.0   \n2  Colombo     Wellawatte  6.874384  79.859118             0.0   \n3  Colombo    Kollupitiya  6.913526  79.850813             0.0   \n4  Colombo    Narahenpita  6.905727  79.882130             2.0   \n\n   1st Most Common Venue 2nd Most Common Venue 3rd Most Common Venue  \\\n0                 Bakery  Fast Food Restaurant        Clothing Store   \n1                  Hotel                Bakery    Chinese Restaurant   \n2                  Hotel  Fast Food Restaurant        Clothing Store   \n3  Sri Lankan Restaurant           Coffee Shop                   Pub   \n4            Golf Course           IT Services             Gift Shop   \n\n  4th Most Common Venue 5th Most Common Venue 6th Most Common Venue  \\\n0      Asian Restaurant      Department Store                  Food   \n1          Dessert Shop           Coffee Shop            Restaurant   \n2    Seafood Restaurant      Asian Restaurant     Indian Restaurant   \n3  Fast Food Restaurant                 Hotel            Food Court   \n4         Women's Store  Fast Food Restaurant     Convenience Store   \n\n  7th Most Common Venue 8th Most Common Venue          9th Most Common Venue  \\\n0     Electronics Store         Women's Store                 Cosmetics Shop   \n1       Thai Restaurant        Lingerie Store                  Jewelry Store   \n2                  Café         Women's Store  Vegetarian / Vegan Restaurant   \n3         Shopping Mall        Clothing Store                  Movie Theater   \n4        Cosmetics Shop        Cricket Ground               Department Store   \n\n  10th Most Common Venue  \n0         Cricket Ground  \n1         Clothing Store  \n2         Ice Cream Shop  \n3            Pizza Place  \n4           Dessert Shop  ",
      "text/html": "<div>\n<style scoped>\n    .dataframe tbody tr th:only-of-type {\n        vertical-align: middle;\n    }\n\n    .dataframe tbody tr th {\n        vertical-align: top;\n    }\n\n    .dataframe thead th {\n        text-align: right;\n    }\n</style>\n<table border=\"1\" class=\"dataframe\">\n  <thead>\n    <tr style=\"text-align: right;\">\n      <th></th>\n      <th>District</th>\n      <th>City</th>\n      <th>Latitude</th>\n      <th>Longitude</th>\n      <th>Cluster Labels</th>\n      <th>1st Most Common Venue</th>\n      <th>2nd Most Common Venue</th>\n      <th>3rd Most Common Venue</th>\n      <th>4th Most Common Venue</th>\n      <th>5th Most Common Venue</th>\n      <th>6th Most Common Venue</th>\n      <th>7th Most Common Venue</th>\n      <th>8th Most Common Venue</th>\n      <th>9th Most Common Venue</th>\n      <th>10th Most Common Venue</th>\n    </tr>\n  </thead>\n  <tbody>\n    <tr>\n      <th>0</th>\n      <td>Colombo</td>\n      <td>Battaramulla</td>\n      <td>6.902181</td>\n      <td>79.919578</td>\n      <td>1.0</td>\n      <td>Bakery</td>\n      <td>Fast Food Restaurant</td>\n      <td>Clothing Store</td>\n      <td>Asian Restaurant</td>\n      <td>Department Store</td>\n      <td>Food</td>\n      <td>Electronics Store</td>\n      <td>Women's Store</td>\n      <td>Cosmetics Shop</td>\n      <td>Cricket Ground</td>\n    </tr>\n    <tr>\n      <th>1</th>\n      <td>Colombo</td>\n      <td>Bambalapitiya</td>\n      <td>6.902486</td>\n      <td>79.854597</td>\n      <td>0.0</td>\n      <td>Hotel</td>\n      <td>Bakery</td>\n      <td>Chinese Restaurant</td>\n      <td>Dessert Shop</td>\n      <td>Coffee Shop</td>\n      <td>Restaurant</td>\n      <td>Thai Restaurant</td>\n      <td>Lingerie Store</td>\n      <td>Jewelry Store</td>\n      <td>Clothing Store</td>\n    </tr>\n    <tr>\n      <th>2</th>\n      <td>Colombo</td>\n      <td>Wellawatte</td>\n      <td>6.874384</td>\n      <td>79.859118</td>\n      <td>0.0</td>\n      <td>Hotel</td>\n      <td>Fast Food Restaurant</td>\n      <td>Clothing Store</td>\n      <td>Seafood Restaurant</td>\n      <td>Asian Restaurant</td>\n      <td>Indian Restaurant</td>\n      <td>Café</td>\n      <td>Women's Store</td>\n      <td>Vegetarian / Vegan Restaurant</td>\n      <td>Ice Cream Shop</td>\n    </tr>\n    <tr>\n      <th>3</th>\n      <td>Colombo</td>\n      <td>Kollupitiya</td>\n      <td>6.913526</td>\n      <td>79.850813</td>\n      <td>0.0</td>\n      <td>Sri Lankan Restaurant</td>\n      <td>Coffee Shop</td>\n      <td>Pub</td>\n      <td>Fast Food Restaurant</td>\n      <td>Hotel</td>\n      <td>Food Court</td>\n      <td>Shopping Mall</td>\n      <td>Clothing Store</td>\n      <td>Movie Theater</td>\n      <td>Pizza Place</td>\n    </tr>\n    <tr>\n      <th>4</th>\n      <td>Colombo</td>\n      <td>Narahenpita</td>\n      <td>6.905727</td>\n      <td>79.882130</td>\n      <td>2.0</td>\n      <td>Golf Course</td>\n      <td>IT Services</td>\n      <td>Gift Shop</td>\n      <td>Women's Store</td>\n      <td>Fast Food Restaurant</td>\n      <td>Convenience Store</td>\n      <td>Cosmetics Shop</td>\n      <td>Cricket Ground</td>\n      <td>Department Store</td>\n      <td>Dessert Shop</td>\n    </tr>\n  </tbody>\n</table>\n</div>"
     },
     "metadata": {},
     "execution_count": 127
    }
   ],
   "source": [
    "colombo_venues_new.insert(0, 'Cluster Labels', kmeans.labels_)\n",
    "\n",
    "colombo_cluster_final = df_coordinates\n",
    "\n",
    "colombo_cluster_final = colombo_cluster_final.join(colombo_venues_new.set_index('Neighborhood'), on='City')\n",
    "\n",
    "colombo_cluster_final.head()"
   ]
  },
  {
   "cell_type": "markdown",
   "metadata": {},
   "source": [
    "### Visualize the resulting clusters generated by K-means"
   ]
  },
  {
   "cell_type": "code",
   "execution_count": 129,
   "metadata": {},
   "outputs": [
    {
     "output_type": "execute_result",
     "data": {
      "text/plain": "<folium.folium.Map at 0x23e86232788>",
      "text/html": "<div style=\"width:100%;\"><div style=\"position:relative;width:100%;height:0;padding-bottom:60%;\"><span style=\"color:#565656\">Make this Notebook Trusted to load map: File -> Trust Notebook</span><iframe src=\"about:blank\" style=\"position:absolute;width:100%;height:100%;left:0;top:0;border:none !important;\" data-html=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 onload=\"this.contentDocument.open();this.contentDocument.write(atob(this.getAttribute('data-html')));this.contentDocument.close();\" allowfullscreen webkitallowfullscreen mozallowfullscreen></iframe></div></div>"
     },
     "metadata": {},
     "execution_count": 129
    }
   ],
   "source": [
    "# create map\n",
    "map_clusters = folium.Map(location=[latitude, longitude], zoom_start=12)\n",
    "\n",
    "# set color scheme for the clusters\n",
    "x = np.arange(clustersize)\n",
    "ys = [i + x + (i*x)**2 for i in range(clustersize)]\n",
    "colors_array = cm.rainbow(np.linspace(0, 1, len(ys)))\n",
    "rainbow = [colors.rgb2hex(i) for i in colors_array]\n",
    "\n",
    "# add markers to the map\n",
    "markers_colors = []\n",
    "for lat, lon, poi, cluster in zip(colombo_cluster_final['Latitude'], colombo_cluster_final['Longitude'], colombo_cluster_final['City'], colombo_cluster_final['Cluster Labels']):\n",
    "    label = folium.Popup(str(poi) + ' Cluster ' + str(cluster), parse_html=True)\n",
    "    cluster = np.nan_to_num(cluster)\n",
    "    folium.CircleMarker(\n",
    "        [lat, lon],\n",
    "        radius=5,\n",
    "        popup=label,\n",
    "        color=rainbow[int(cluster)-1],\n",
    "        fill=True,\n",
    "        fill_color=rainbow[int(cluster)-1],\n",
    "        fill_opacity=0.7).add_to(map_clusters)\n",
    "       \n",
    "map_clusters"
   ]
  },
  {
   "cell_type": "markdown",
   "metadata": {},
   "source": [
    "### Examine the generated clusters\n",
    "\n",
    "The generated clusters can be analyzed and segmented based on the most common venues types\n",
    "\n",
    "### Cluster 1"
   ]
  },
  {
   "cell_type": "code",
   "execution_count": 130,
   "metadata": {},
   "outputs": [
    {
     "output_type": "execute_result",
     "data": {
      "text/plain": "                City  1st Most Common Venue          2nd Most Common Venue  \\\n1      Bambalapitiya                  Hotel                         Bakery   \n2         Wellawatte                  Hotel           Fast Food Restaurant   \n3        Kollupitiya  Sri Lankan Restaurant                    Coffee Shop   \n5            Borella         Clothing Store                 Cosmetics Shop   \n6   Cinnamon Gardens                   Café                    Coffee Shop   \n7         Dematagoda                   Café               Department Store   \n8               Fort               Platform                         Market   \n9     Aluthkade East   Fast Food Restaurant  Vegetarian / Vegan Restaurant   \n11          Maradana            Bus Station                     Restaurant   \n12         Grandpass   Gym / Fitness Center                 Cricket Ground   \n13            Mutwal           Concert Hall                     Playground   \n14            Pettah               Platform                    Bus Station   \n15      Slave Island            Coffee Shop                          Hotel   \n18          Dehiwala         Cosmetics Shop                 Clothing Store   \n19         Kolonnawa      Convenience Store                 Cosmetics Shop   \n21          Moratuwa         Clothing Store                  Train Station   \n\n   3rd Most Common Venue 4th Most Common Venue 5th Most Common Venue  \\\n1     Chinese Restaurant          Dessert Shop           Coffee Shop   \n2         Clothing Store    Seafood Restaurant      Asian Restaurant   \n3                    Pub  Fast Food Restaurant                 Hotel   \n5             Restaurant         Women's Store                 Hotel   \n6            Art Gallery               Theater                   Pub   \n7              Pool Hall           Supermarket              Bus Stop   \n8          Women's Store    Seafood Restaurant      Asian Restaurant   \n9       Asian Restaurant         Hot Dog Joint     Indian Restaurant   \n11     Convenience Store      Asian Restaurant             Bookstore   \n12              Tea Room    Athletics & Sports           Flea Market   \n13        Cricket Ground                 Beach  Fast Food Restaurant   \n14      Department Store         Women's Store    Seafood Restaurant   \n15                   Bar           Bus Station             Nightclub   \n18           Pizza Place             Bookstore  Fast Food Restaurant   \n19      Department Store            Restaurant         Women's Store   \n21      Asian Restaurant    Chinese Restaurant                Market   \n\n     6th Most Common Venue 7th Most Common Venue     8th Most Common Venue  \\\n1               Restaurant       Thai Restaurant            Lingerie Store   \n2        Indian Restaurant                  Café             Women's Store   \n3               Food Court         Shopping Mall            Clothing Store   \n5        Convenience Store                Office  Mediterranean Restaurant   \n6                      Gym             Nightclub                       Bar   \n7            Women's Store            Eye Doctor         Convenience Store   \n8                Bookstore                Casino          Department Store   \n9   Furniture / Home Store         Women's Store            Cosmetics Shop   \n11                    Pool             Juice Bar                     Diner   \n12       Convenience Store        Cosmetics Shop          Department Store   \n13       Convenience Store        Cosmetics Shop          Department Store   \n14               Bookstore                Casino         Electronics Store   \n15            Soccer Field                   Pub                    Lounge   \n18           Movie Theater    Chinese Restaurant               Candy Store   \n19    Fast Food Restaurant        Cricket Ground              Dessert Shop   \n21           Women's Store            Eye Doctor            Cosmetics Shop   \n\n            9th Most Common Venue 10th Most Common Venue  \n1                   Jewelry Store         Clothing Store  \n2   Vegetarian / Vegan Restaurant         Ice Cream Shop  \n3                   Movie Theater            Pizza Place  \n5                     Pizza Place             Donut Shop  \n6                   Women's Store           Cocktail Bar  \n7                  Cosmetics Shop         Cricket Ground  \n8   Vegetarian / Vegan Restaurant         History Museum  \n9                  Cricket Ground       Department Store  \n11                  Movie Theater           Soccer Field  \n12                   Dessert Shop                  Diner  \n13                   Dessert Shop                  Diner  \n14  Vegetarian / Vegan Restaurant         History Museum  \n15                      Dive Spot                    Gym  \n18                           Café          Women's Store  \n19                          Diner              Dive Spot  \n21                 Cricket Ground       Department Store  ",
      "text/html": "<div>\n<style scoped>\n    .dataframe tbody tr th:only-of-type {\n        vertical-align: middle;\n    }\n\n    .dataframe tbody tr th {\n        vertical-align: top;\n    }\n\n    .dataframe thead th {\n        text-align: right;\n    }\n</style>\n<table border=\"1\" class=\"dataframe\">\n  <thead>\n    <tr style=\"text-align: right;\">\n      <th></th>\n      <th>City</th>\n      <th>1st Most Common Venue</th>\n      <th>2nd Most Common Venue</th>\n      <th>3rd Most Common Venue</th>\n      <th>4th Most Common Venue</th>\n      <th>5th Most Common Venue</th>\n      <th>6th Most Common Venue</th>\n      <th>7th Most Common Venue</th>\n      <th>8th Most Common Venue</th>\n      <th>9th Most Common Venue</th>\n      <th>10th Most Common Venue</th>\n    </tr>\n  </thead>\n  <tbody>\n    <tr>\n      <th>1</th>\n      <td>Bambalapitiya</td>\n      <td>Hotel</td>\n      <td>Bakery</td>\n      <td>Chinese Restaurant</td>\n      <td>Dessert Shop</td>\n      <td>Coffee Shop</td>\n      <td>Restaurant</td>\n      <td>Thai Restaurant</td>\n      <td>Lingerie Store</td>\n      <td>Jewelry Store</td>\n      <td>Clothing Store</td>\n    </tr>\n    <tr>\n      <th>2</th>\n      <td>Wellawatte</td>\n      <td>Hotel</td>\n      <td>Fast Food Restaurant</td>\n      <td>Clothing Store</td>\n      <td>Seafood Restaurant</td>\n      <td>Asian Restaurant</td>\n      <td>Indian Restaurant</td>\n      <td>Café</td>\n      <td>Women's Store</td>\n      <td>Vegetarian / Vegan Restaurant</td>\n      <td>Ice Cream Shop</td>\n    </tr>\n    <tr>\n      <th>3</th>\n      <td>Kollupitiya</td>\n      <td>Sri Lankan Restaurant</td>\n      <td>Coffee Shop</td>\n      <td>Pub</td>\n      <td>Fast Food Restaurant</td>\n      <td>Hotel</td>\n      <td>Food Court</td>\n      <td>Shopping Mall</td>\n      <td>Clothing Store</td>\n      <td>Movie Theater</td>\n      <td>Pizza Place</td>\n    </tr>\n    <tr>\n      <th>5</th>\n      <td>Borella</td>\n      <td>Clothing Store</td>\n      <td>Cosmetics Shop</td>\n      <td>Restaurant</td>\n      <td>Women's Store</td>\n      <td>Hotel</td>\n      <td>Convenience Store</td>\n      <td>Office</td>\n      <td>Mediterranean Restaurant</td>\n      <td>Pizza Place</td>\n      <td>Donut Shop</td>\n    </tr>\n    <tr>\n      <th>6</th>\n      <td>Cinnamon Gardens</td>\n      <td>Café</td>\n      <td>Coffee Shop</td>\n      <td>Art Gallery</td>\n      <td>Theater</td>\n      <td>Pub</td>\n      <td>Gym</td>\n      <td>Nightclub</td>\n      <td>Bar</td>\n      <td>Women's Store</td>\n      <td>Cocktail Bar</td>\n    </tr>\n    <tr>\n      <th>7</th>\n      <td>Dematagoda</td>\n      <td>Café</td>\n      <td>Department Store</td>\n      <td>Pool Hall</td>\n      <td>Supermarket</td>\n      <td>Bus Stop</td>\n      <td>Women's Store</td>\n      <td>Eye Doctor</td>\n      <td>Convenience Store</td>\n      <td>Cosmetics Shop</td>\n      <td>Cricket Ground</td>\n    </tr>\n    <tr>\n      <th>8</th>\n      <td>Fort</td>\n      <td>Platform</td>\n      <td>Market</td>\n      <td>Women's Store</td>\n      <td>Seafood Restaurant</td>\n      <td>Asian Restaurant</td>\n      <td>Bookstore</td>\n      <td>Casino</td>\n      <td>Department Store</td>\n      <td>Vegetarian / Vegan Restaurant</td>\n      <td>History Museum</td>\n    </tr>\n    <tr>\n      <th>9</th>\n      <td>Aluthkade East</td>\n      <td>Fast Food Restaurant</td>\n      <td>Vegetarian / Vegan Restaurant</td>\n      <td>Asian Restaurant</td>\n      <td>Hot Dog Joint</td>\n      <td>Indian Restaurant</td>\n      <td>Furniture / Home Store</td>\n      <td>Women's Store</td>\n      <td>Cosmetics Shop</td>\n      <td>Cricket Ground</td>\n      <td>Department Store</td>\n    </tr>\n    <tr>\n      <th>11</th>\n      <td>Maradana</td>\n      <td>Bus Station</td>\n      <td>Restaurant</td>\n      <td>Convenience Store</td>\n      <td>Asian Restaurant</td>\n      <td>Bookstore</td>\n      <td>Pool</td>\n      <td>Juice Bar</td>\n      <td>Diner</td>\n      <td>Movie Theater</td>\n      <td>Soccer Field</td>\n    </tr>\n    <tr>\n      <th>12</th>\n      <td>Grandpass</td>\n      <td>Gym / Fitness Center</td>\n      <td>Cricket Ground</td>\n      <td>Tea Room</td>\n      <td>Athletics &amp; Sports</td>\n      <td>Flea Market</td>\n      <td>Convenience Store</td>\n      <td>Cosmetics Shop</td>\n      <td>Department Store</td>\n      <td>Dessert Shop</td>\n      <td>Diner</td>\n    </tr>\n    <tr>\n      <th>13</th>\n      <td>Mutwal</td>\n      <td>Concert Hall</td>\n      <td>Playground</td>\n      <td>Cricket Ground</td>\n      <td>Beach</td>\n      <td>Fast Food Restaurant</td>\n      <td>Convenience Store</td>\n      <td>Cosmetics Shop</td>\n      <td>Department Store</td>\n      <td>Dessert Shop</td>\n      <td>Diner</td>\n    </tr>\n    <tr>\n      <th>14</th>\n      <td>Pettah</td>\n      <td>Platform</td>\n      <td>Bus Station</td>\n      <td>Department Store</td>\n      <td>Women's Store</td>\n      <td>Seafood Restaurant</td>\n      <td>Bookstore</td>\n      <td>Casino</td>\n      <td>Electronics Store</td>\n      <td>Vegetarian / Vegan Restaurant</td>\n      <td>History Museum</td>\n    </tr>\n    <tr>\n      <th>15</th>\n      <td>Slave Island</td>\n      <td>Coffee Shop</td>\n      <td>Hotel</td>\n      <td>Bar</td>\n      <td>Bus Station</td>\n      <td>Nightclub</td>\n      <td>Soccer Field</td>\n      <td>Pub</td>\n      <td>Lounge</td>\n      <td>Dive Spot</td>\n      <td>Gym</td>\n    </tr>\n    <tr>\n      <th>18</th>\n      <td>Dehiwala</td>\n      <td>Cosmetics Shop</td>\n      <td>Clothing Store</td>\n      <td>Pizza Place</td>\n      <td>Bookstore</td>\n      <td>Fast Food Restaurant</td>\n      <td>Movie Theater</td>\n      <td>Chinese Restaurant</td>\n      <td>Candy Store</td>\n      <td>Café</td>\n      <td>Women's Store</td>\n    </tr>\n    <tr>\n      <th>19</th>\n      <td>Kolonnawa</td>\n      <td>Convenience Store</td>\n      <td>Cosmetics Shop</td>\n      <td>Department Store</td>\n      <td>Restaurant</td>\n      <td>Women's Store</td>\n      <td>Fast Food Restaurant</td>\n      <td>Cricket Ground</td>\n      <td>Dessert Shop</td>\n      <td>Diner</td>\n      <td>Dive Spot</td>\n    </tr>\n    <tr>\n      <th>21</th>\n      <td>Moratuwa</td>\n      <td>Clothing Store</td>\n      <td>Train Station</td>\n      <td>Asian Restaurant</td>\n      <td>Chinese Restaurant</td>\n      <td>Market</td>\n      <td>Women's Store</td>\n      <td>Eye Doctor</td>\n      <td>Cosmetics Shop</td>\n      <td>Cricket Ground</td>\n      <td>Department Store</td>\n    </tr>\n  </tbody>\n</table>\n</div>"
     },
     "metadata": {},
     "execution_count": 130
    }
   ],
   "source": [
    "colombo_cluster_final.loc[colombo_cluster_final['Cluster Labels'] == 0, colombo_cluster_final.columns[[1] + list(range(5, colombo_cluster_final.shape[1]))]]"
   ]
  },
  {
   "cell_type": "markdown",
   "metadata": {},
   "source": [
    "### Cluster 2"
   ]
  },
  {
   "cell_type": "code",
   "execution_count": 131,
   "metadata": {},
   "outputs": [
    {
     "output_type": "execute_result",
     "data": {
      "text/plain": "             City 1st Most Common Venue 2nd Most Common Venue  \\\n0    Battaramulla                Bakery  Fast Food Restaurant   \n10       Kotahena           Supermarket      Asian Restaurant   \n17     Rajagiriya      Asian Restaurant           Pizza Place   \n20     Maharagama           Bus Station                Bakery   \n22  Mount Lavinia                Bakery           Coffee Shop   \n\n   3rd Most Common Venue 4th Most Common Venue 5th Most Common Venue  \\\n0         Clothing Store      Asian Restaurant      Department Store   \n10           Pizza Place             Multiplex                Bakery   \n17         Shopping Mall    Chinese Restaurant                Bakery   \n20           Supermarket         Women's Store         Movie Theater   \n22     Indian Restaurant                   Gym            Eye Doctor   \n\n   6th Most Common Venue 7th Most Common Venue 8th Most Common Venue  \\\n0                   Food     Electronics Store         Women's Store   \n10     Indian Restaurant           IT Services          Dessert Shop   \n17    Italian Restaurant              Pharmacy                  Café   \n20             Bookstore              Boutique          Burger Joint   \n22  Pakistani Restaurant  Fast Food Restaurant           Pizza Place   \n\n   9th Most Common Venue    10th Most Common Venue  \n0         Cosmetics Shop            Cricket Ground  \n10            Donut Shop                 Dive Spot  \n17           Bus Station        Seafood Restaurant  \n20    Chinese Restaurant         Electronics Store  \n22           Supermarket  Mediterranean Restaurant  ",
      "text/html": "<div>\n<style scoped>\n    .dataframe tbody tr th:only-of-type {\n        vertical-align: middle;\n    }\n\n    .dataframe tbody tr th {\n        vertical-align: top;\n    }\n\n    .dataframe thead th {\n        text-align: right;\n    }\n</style>\n<table border=\"1\" class=\"dataframe\">\n  <thead>\n    <tr style=\"text-align: right;\">\n      <th></th>\n      <th>City</th>\n      <th>1st Most Common Venue</th>\n      <th>2nd Most Common Venue</th>\n      <th>3rd Most Common Venue</th>\n      <th>4th Most Common Venue</th>\n      <th>5th Most Common Venue</th>\n      <th>6th Most Common Venue</th>\n      <th>7th Most Common Venue</th>\n      <th>8th Most Common Venue</th>\n      <th>9th Most Common Venue</th>\n      <th>10th Most Common Venue</th>\n    </tr>\n  </thead>\n  <tbody>\n    <tr>\n      <th>0</th>\n      <td>Battaramulla</td>\n      <td>Bakery</td>\n      <td>Fast Food Restaurant</td>\n      <td>Clothing Store</td>\n      <td>Asian Restaurant</td>\n      <td>Department Store</td>\n      <td>Food</td>\n      <td>Electronics Store</td>\n      <td>Women's Store</td>\n      <td>Cosmetics Shop</td>\n      <td>Cricket Ground</td>\n    </tr>\n    <tr>\n      <th>10</th>\n      <td>Kotahena</td>\n      <td>Supermarket</td>\n      <td>Asian Restaurant</td>\n      <td>Pizza Place</td>\n      <td>Multiplex</td>\n      <td>Bakery</td>\n      <td>Indian Restaurant</td>\n      <td>IT Services</td>\n      <td>Dessert Shop</td>\n      <td>Donut Shop</td>\n      <td>Dive Spot</td>\n    </tr>\n    <tr>\n      <th>17</th>\n      <td>Rajagiriya</td>\n      <td>Asian Restaurant</td>\n      <td>Pizza Place</td>\n      <td>Shopping Mall</td>\n      <td>Chinese Restaurant</td>\n      <td>Bakery</td>\n      <td>Italian Restaurant</td>\n      <td>Pharmacy</td>\n      <td>Café</td>\n      <td>Bus Station</td>\n      <td>Seafood Restaurant</td>\n    </tr>\n    <tr>\n      <th>20</th>\n      <td>Maharagama</td>\n      <td>Bus Station</td>\n      <td>Bakery</td>\n      <td>Supermarket</td>\n      <td>Women's Store</td>\n      <td>Movie Theater</td>\n      <td>Bookstore</td>\n      <td>Boutique</td>\n      <td>Burger Joint</td>\n      <td>Chinese Restaurant</td>\n      <td>Electronics Store</td>\n    </tr>\n    <tr>\n      <th>22</th>\n      <td>Mount Lavinia</td>\n      <td>Bakery</td>\n      <td>Coffee Shop</td>\n      <td>Indian Restaurant</td>\n      <td>Gym</td>\n      <td>Eye Doctor</td>\n      <td>Pakistani Restaurant</td>\n      <td>Fast Food Restaurant</td>\n      <td>Pizza Place</td>\n      <td>Supermarket</td>\n      <td>Mediterranean Restaurant</td>\n    </tr>\n  </tbody>\n</table>\n</div>"
     },
     "metadata": {},
     "execution_count": 131
    }
   ],
   "source": [
    "colombo_cluster_final.loc[colombo_cluster_final['Cluster Labels'] == 1, colombo_cluster_final.columns[[1] + list(range(5, colombo_cluster_final.shape[1]))]]"
   ]
  },
  {
   "cell_type": "markdown",
   "metadata": {},
   "source": [
    "### Cluster 3"
   ]
  },
  {
   "cell_type": "code",
   "execution_count": 132,
   "metadata": {},
   "outputs": [
    {
     "output_type": "execute_result",
     "data": {
      "text/plain": "          City 1st Most Common Venue 2nd Most Common Venue  \\\n4  Narahenpita           Golf Course           IT Services   \n\n  3rd Most Common Venue 4th Most Common Venue 5th Most Common Venue  \\\n4             Gift Shop         Women's Store  Fast Food Restaurant   \n\n  6th Most Common Venue 7th Most Common Venue 8th Most Common Venue  \\\n4     Convenience Store        Cosmetics Shop        Cricket Ground   \n\n  9th Most Common Venue 10th Most Common Venue  \n4      Department Store           Dessert Shop  ",
      "text/html": "<div>\n<style scoped>\n    .dataframe tbody tr th:only-of-type {\n        vertical-align: middle;\n    }\n\n    .dataframe tbody tr th {\n        vertical-align: top;\n    }\n\n    .dataframe thead th {\n        text-align: right;\n    }\n</style>\n<table border=\"1\" class=\"dataframe\">\n  <thead>\n    <tr style=\"text-align: right;\">\n      <th></th>\n      <th>City</th>\n      <th>1st Most Common Venue</th>\n      <th>2nd Most Common Venue</th>\n      <th>3rd Most Common Venue</th>\n      <th>4th Most Common Venue</th>\n      <th>5th Most Common Venue</th>\n      <th>6th Most Common Venue</th>\n      <th>7th Most Common Venue</th>\n      <th>8th Most Common Venue</th>\n      <th>9th Most Common Venue</th>\n      <th>10th Most Common Venue</th>\n    </tr>\n  </thead>\n  <tbody>\n    <tr>\n      <th>4</th>\n      <td>Narahenpita</td>\n      <td>Golf Course</td>\n      <td>IT Services</td>\n      <td>Gift Shop</td>\n      <td>Women's Store</td>\n      <td>Fast Food Restaurant</td>\n      <td>Convenience Store</td>\n      <td>Cosmetics Shop</td>\n      <td>Cricket Ground</td>\n      <td>Department Store</td>\n      <td>Dessert Shop</td>\n    </tr>\n  </tbody>\n</table>\n</div>"
     },
     "metadata": {},
     "execution_count": 132
    }
   ],
   "source": [
    "colombo_cluster_final.loc[colombo_cluster_final['Cluster Labels'] == 2, colombo_cluster_final.columns[[1] + list(range(5, colombo_cluster_final.shape[1]))]]"
   ]
  },
  {
   "cell_type": "markdown",
   "metadata": {},
   "source": [
    "### Cluster Segmentation\n",
    "The following observations were identified upon examaning the clusters:\n",
    "\n",
    "1. The first cluster consists of the consumer target market with almost all businesses targeted at residential consumers, with the        most common venues being resturants, coffee shops, supermarkets, consumer stores and other recretional venues for customers. \n",
    "   This cluster group is best suited for businesses looking to sell their end product or services to everyday consumers.\n",
    "\n",
    "\n",
    "2. The second cluster consists of a combination of consumer market and business market with resturants, supermarts and also IT companies, electronic stores and other service companies, with a mix of businesses which cater to consumers and also businesses which cater to business users and industries. These neighborhoods are optimal if the business looks to sell it's products or services to both target markets \n",
    "\n",
    "\n",
    "\n",
    "3. The third cluster consists of the business and industrial target market where most of the businesses cater towards other businesses or industries, and have relatively less number of consumer focused businesses compared to the other clusters"
   ]
  }
 ],
 "metadata": {
  "language_info": {
   "codemirror_mode": {
    "name": "ipython",
    "version": 3
   },
   "file_extension": ".py",
   "mimetype": "text/x-python",
   "name": "python",
   "nbconvert_exporter": "python",
   "pygments_lexer": "ipython3",
   "version": 3
  },
  "orig_nbformat": 2,
  "kernelspec": {
   "name": "python_defaultSpec_1594308542520",
   "display_name": "Python 3.7.6 64-bit ('base': conda)"
  }
 },
 "nbformat": 4,
 "nbformat_minor": 2
}
